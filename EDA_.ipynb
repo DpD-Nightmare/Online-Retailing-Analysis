{
 "cells": [
  {
   "cell_type": "code",
   "execution_count": 4,
   "id": "2a9688ad",
   "metadata": {},
   "outputs": [],
   "source": [
    "import pandas as pd\n",
    "import numpy as np\n",
    "from datetime import datetime"
   ]
  },
  {
   "cell_type": "code",
   "execution_count": 8,
   "id": "0044acf9",
   "metadata": {},
   "outputs": [],
   "source": [
    "import plotly.express as px\n",
    "import seaborn as sns\n",
    "import matplotlib.pyplot as plt"
   ]
  },
  {
   "cell_type": "code",
   "execution_count": 2,
   "id": "2ee468a6",
   "metadata": {},
   "outputs": [],
   "source": [
    "data = pd.read_excel('Online Retail.xlsx')"
   ]
  },
  {
   "cell_type": "code",
   "execution_count": 3,
   "id": "33028350",
   "metadata": {},
   "outputs": [
    {
     "data": {
      "text/html": [
       "<div>\n",
       "<style scoped>\n",
       "    .dataframe tbody tr th:only-of-type {\n",
       "        vertical-align: middle;\n",
       "    }\n",
       "\n",
       "    .dataframe tbody tr th {\n",
       "        vertical-align: top;\n",
       "    }\n",
       "\n",
       "    .dataframe thead th {\n",
       "        text-align: right;\n",
       "    }\n",
       "</style>\n",
       "<table border=\"1\" class=\"dataframe\">\n",
       "  <thead>\n",
       "    <tr style=\"text-align: right;\">\n",
       "      <th></th>\n",
       "      <th>InvoiceNo</th>\n",
       "      <th>StockCode</th>\n",
       "      <th>Description</th>\n",
       "      <th>Quantity</th>\n",
       "      <th>InvoiceDate</th>\n",
       "      <th>UnitPrice</th>\n",
       "      <th>CustomerID</th>\n",
       "      <th>Country</th>\n",
       "    </tr>\n",
       "  </thead>\n",
       "  <tbody>\n",
       "    <tr>\n",
       "      <th>0</th>\n",
       "      <td>536365</td>\n",
       "      <td>85123A</td>\n",
       "      <td>WHITE HANGING HEART T-LIGHT HOLDER</td>\n",
       "      <td>6</td>\n",
       "      <td>2010-12-01 08:26:00</td>\n",
       "      <td>2.55</td>\n",
       "      <td>17850.0</td>\n",
       "      <td>United Kingdom</td>\n",
       "    </tr>\n",
       "    <tr>\n",
       "      <th>1</th>\n",
       "      <td>536365</td>\n",
       "      <td>71053</td>\n",
       "      <td>WHITE METAL LANTERN</td>\n",
       "      <td>6</td>\n",
       "      <td>2010-12-01 08:26:00</td>\n",
       "      <td>3.39</td>\n",
       "      <td>17850.0</td>\n",
       "      <td>United Kingdom</td>\n",
       "    </tr>\n",
       "    <tr>\n",
       "      <th>2</th>\n",
       "      <td>536365</td>\n",
       "      <td>84406B</td>\n",
       "      <td>CREAM CUPID HEARTS COAT HANGER</td>\n",
       "      <td>8</td>\n",
       "      <td>2010-12-01 08:26:00</td>\n",
       "      <td>2.75</td>\n",
       "      <td>17850.0</td>\n",
       "      <td>United Kingdom</td>\n",
       "    </tr>\n",
       "    <tr>\n",
       "      <th>3</th>\n",
       "      <td>536365</td>\n",
       "      <td>84029G</td>\n",
       "      <td>KNITTED UNION FLAG HOT WATER BOTTLE</td>\n",
       "      <td>6</td>\n",
       "      <td>2010-12-01 08:26:00</td>\n",
       "      <td>3.39</td>\n",
       "      <td>17850.0</td>\n",
       "      <td>United Kingdom</td>\n",
       "    </tr>\n",
       "    <tr>\n",
       "      <th>4</th>\n",
       "      <td>536365</td>\n",
       "      <td>84029E</td>\n",
       "      <td>RED WOOLLY HOTTIE WHITE HEART.</td>\n",
       "      <td>6</td>\n",
       "      <td>2010-12-01 08:26:00</td>\n",
       "      <td>3.39</td>\n",
       "      <td>17850.0</td>\n",
       "      <td>United Kingdom</td>\n",
       "    </tr>\n",
       "  </tbody>\n",
       "</table>\n",
       "</div>"
      ],
      "text/plain": [
       "  InvoiceNo StockCode                          Description  Quantity  \\\n",
       "0    536365    85123A   WHITE HANGING HEART T-LIGHT HOLDER         6   \n",
       "1    536365     71053                  WHITE METAL LANTERN         6   \n",
       "2    536365    84406B       CREAM CUPID HEARTS COAT HANGER         8   \n",
       "3    536365    84029G  KNITTED UNION FLAG HOT WATER BOTTLE         6   \n",
       "4    536365    84029E       RED WOOLLY HOTTIE WHITE HEART.         6   \n",
       "\n",
       "          InvoiceDate  UnitPrice  CustomerID         Country  \n",
       "0 2010-12-01 08:26:00       2.55     17850.0  United Kingdom  \n",
       "1 2010-12-01 08:26:00       3.39     17850.0  United Kingdom  \n",
       "2 2010-12-01 08:26:00       2.75     17850.0  United Kingdom  \n",
       "3 2010-12-01 08:26:00       3.39     17850.0  United Kingdom  \n",
       "4 2010-12-01 08:26:00       3.39     17850.0  United Kingdom  "
      ]
     },
     "execution_count": 3,
     "metadata": {},
     "output_type": "execute_result"
    }
   ],
   "source": [
    "data.head()"
   ]
  },
  {
   "cell_type": "code",
   "execution_count": 5,
   "id": "743bbffd",
   "metadata": {},
   "outputs": [],
   "source": [
    "#Convert the date and time of the dataset\n",
    "data['InvDt'] = pd.DatetimeIndex(data['InvoiceDate']).date\n",
    "data['InvHr'] = pd.DatetimeIndex(data['InvoiceDate']).hour\n",
    "data['InvYr'] = pd.DatetimeIndex(data['InvoiceDate']).year\n",
    "data['InvMo'] = pd.DatetimeIndex(data['InvoiceDate']).month\n",
    "data['InvDy'] = pd.DatetimeIndex(data['InvoiceDate']).day\n",
    "data['total_price'] = data['Quantity']*data['UnitPrice']"
   ]
  },
  {
   "cell_type": "code",
   "execution_count": 7,
   "id": "4775caca",
   "metadata": {},
   "outputs": [
    {
     "data": {
      "text/html": [
       "<div>\n",
       "<style scoped>\n",
       "    .dataframe tbody tr th:only-of-type {\n",
       "        vertical-align: middle;\n",
       "    }\n",
       "\n",
       "    .dataframe tbody tr th {\n",
       "        vertical-align: top;\n",
       "    }\n",
       "\n",
       "    .dataframe thead th {\n",
       "        text-align: right;\n",
       "    }\n",
       "</style>\n",
       "<table border=\"1\" class=\"dataframe\">\n",
       "  <thead>\n",
       "    <tr style=\"text-align: right;\">\n",
       "      <th></th>\n",
       "      <th>Quantity</th>\n",
       "      <th>UnitPrice</th>\n",
       "      <th>CustomerID</th>\n",
       "      <th>InvHr</th>\n",
       "      <th>InvYr</th>\n",
       "      <th>InvMo</th>\n",
       "      <th>InvDy</th>\n",
       "      <th>total_price</th>\n",
       "    </tr>\n",
       "  </thead>\n",
       "  <tbody>\n",
       "    <tr>\n",
       "      <th>count</th>\n",
       "      <td>541909.000000</td>\n",
       "      <td>541909.000000</td>\n",
       "      <td>406829.000000</td>\n",
       "      <td>541909.000000</td>\n",
       "      <td>541909.000000</td>\n",
       "      <td>541909.000000</td>\n",
       "      <td>541909.000000</td>\n",
       "      <td>541909.000000</td>\n",
       "    </tr>\n",
       "    <tr>\n",
       "      <th>mean</th>\n",
       "      <td>9.552250</td>\n",
       "      <td>4.611114</td>\n",
       "      <td>15287.690570</td>\n",
       "      <td>13.078729</td>\n",
       "      <td>2010.921609</td>\n",
       "      <td>7.553128</td>\n",
       "      <td>15.023096</td>\n",
       "      <td>17.987795</td>\n",
       "    </tr>\n",
       "    <tr>\n",
       "      <th>std</th>\n",
       "      <td>218.081158</td>\n",
       "      <td>96.759853</td>\n",
       "      <td>1713.600303</td>\n",
       "      <td>2.443270</td>\n",
       "      <td>0.268787</td>\n",
       "      <td>3.509055</td>\n",
       "      <td>8.664063</td>\n",
       "      <td>378.810824</td>\n",
       "    </tr>\n",
       "    <tr>\n",
       "      <th>min</th>\n",
       "      <td>-80995.000000</td>\n",
       "      <td>-11062.060000</td>\n",
       "      <td>12346.000000</td>\n",
       "      <td>6.000000</td>\n",
       "      <td>2010.000000</td>\n",
       "      <td>1.000000</td>\n",
       "      <td>1.000000</td>\n",
       "      <td>-168469.600000</td>\n",
       "    </tr>\n",
       "    <tr>\n",
       "      <th>25%</th>\n",
       "      <td>1.000000</td>\n",
       "      <td>1.250000</td>\n",
       "      <td>13953.000000</td>\n",
       "      <td>11.000000</td>\n",
       "      <td>2011.000000</td>\n",
       "      <td>5.000000</td>\n",
       "      <td>7.000000</td>\n",
       "      <td>3.400000</td>\n",
       "    </tr>\n",
       "    <tr>\n",
       "      <th>50%</th>\n",
       "      <td>3.000000</td>\n",
       "      <td>2.080000</td>\n",
       "      <td>15152.000000</td>\n",
       "      <td>13.000000</td>\n",
       "      <td>2011.000000</td>\n",
       "      <td>8.000000</td>\n",
       "      <td>15.000000</td>\n",
       "      <td>9.750000</td>\n",
       "    </tr>\n",
       "    <tr>\n",
       "      <th>75%</th>\n",
       "      <td>10.000000</td>\n",
       "      <td>4.130000</td>\n",
       "      <td>16791.000000</td>\n",
       "      <td>15.000000</td>\n",
       "      <td>2011.000000</td>\n",
       "      <td>11.000000</td>\n",
       "      <td>22.000000</td>\n",
       "      <td>17.400000</td>\n",
       "    </tr>\n",
       "    <tr>\n",
       "      <th>max</th>\n",
       "      <td>80995.000000</td>\n",
       "      <td>38970.000000</td>\n",
       "      <td>18287.000000</td>\n",
       "      <td>20.000000</td>\n",
       "      <td>2011.000000</td>\n",
       "      <td>12.000000</td>\n",
       "      <td>31.000000</td>\n",
       "      <td>168469.600000</td>\n",
       "    </tr>\n",
       "  </tbody>\n",
       "</table>\n",
       "</div>"
      ],
      "text/plain": [
       "            Quantity      UnitPrice     CustomerID          InvHr  \\\n",
       "count  541909.000000  541909.000000  406829.000000  541909.000000   \n",
       "mean        9.552250       4.611114   15287.690570      13.078729   \n",
       "std       218.081158      96.759853    1713.600303       2.443270   \n",
       "min    -80995.000000  -11062.060000   12346.000000       6.000000   \n",
       "25%         1.000000       1.250000   13953.000000      11.000000   \n",
       "50%         3.000000       2.080000   15152.000000      13.000000   \n",
       "75%        10.000000       4.130000   16791.000000      15.000000   \n",
       "max     80995.000000   38970.000000   18287.000000      20.000000   \n",
       "\n",
       "               InvYr          InvMo          InvDy    total_price  \n",
       "count  541909.000000  541909.000000  541909.000000  541909.000000  \n",
       "mean     2010.921609       7.553128      15.023096      17.987795  \n",
       "std         0.268787       3.509055       8.664063     378.810824  \n",
       "min      2010.000000       1.000000       1.000000 -168469.600000  \n",
       "25%      2011.000000       5.000000       7.000000       3.400000  \n",
       "50%      2011.000000       8.000000      15.000000       9.750000  \n",
       "75%      2011.000000      11.000000      22.000000      17.400000  \n",
       "max      2011.000000      12.000000      31.000000  168469.600000  "
      ]
     },
     "execution_count": 7,
     "metadata": {},
     "output_type": "execute_result"
    }
   ],
   "source": [
    "data.describe()"
   ]
  },
  {
   "cell_type": "code",
   "execution_count": 11,
   "id": "952562d6",
   "metadata": {},
   "outputs": [
    {
     "data": {
      "text/plain": [
       "406829"
      ]
     },
     "execution_count": 11,
     "metadata": {},
     "output_type": "execute_result"
    }
   ],
   "source": [
    "data.dropna(inplace=True)\n",
    "len(data)"
   ]
  },
  {
   "cell_type": "code",
   "execution_count": 12,
   "id": "4a2893b5",
   "metadata": {},
   "outputs": [
    {
     "data": {
      "text/html": [
       "<div>\n",
       "<style scoped>\n",
       "    .dataframe tbody tr th:only-of-type {\n",
       "        vertical-align: middle;\n",
       "    }\n",
       "\n",
       "    .dataframe tbody tr th {\n",
       "        vertical-align: top;\n",
       "    }\n",
       "\n",
       "    .dataframe thead th {\n",
       "        text-align: right;\n",
       "    }\n",
       "</style>\n",
       "<table border=\"1\" class=\"dataframe\">\n",
       "  <thead>\n",
       "    <tr style=\"text-align: right;\">\n",
       "      <th></th>\n",
       "      <th>InvoiceNo</th>\n",
       "      <th>StockCode</th>\n",
       "      <th>Description</th>\n",
       "      <th>Quantity</th>\n",
       "      <th>InvoiceDate</th>\n",
       "      <th>UnitPrice</th>\n",
       "      <th>CustomerID</th>\n",
       "      <th>Country</th>\n",
       "      <th>InvDt</th>\n",
       "      <th>InvHr</th>\n",
       "      <th>InvYr</th>\n",
       "      <th>InvMo</th>\n",
       "      <th>InvDy</th>\n",
       "      <th>total_price</th>\n",
       "    </tr>\n",
       "  </thead>\n",
       "  <tbody>\n",
       "    <tr>\n",
       "      <th>0</th>\n",
       "      <td>536365</td>\n",
       "      <td>85123A</td>\n",
       "      <td>WHITE HANGING HEART T-LIGHT HOLDER</td>\n",
       "      <td>6</td>\n",
       "      <td>2010-12-01 08:26:00</td>\n",
       "      <td>2.55</td>\n",
       "      <td>17850.0</td>\n",
       "      <td>United Kingdom</td>\n",
       "      <td>2010-12-01</td>\n",
       "      <td>8</td>\n",
       "      <td>2010</td>\n",
       "      <td>12</td>\n",
       "      <td>1</td>\n",
       "      <td>15.30</td>\n",
       "    </tr>\n",
       "    <tr>\n",
       "      <th>1</th>\n",
       "      <td>536365</td>\n",
       "      <td>71053</td>\n",
       "      <td>WHITE METAL LANTERN</td>\n",
       "      <td>6</td>\n",
       "      <td>2010-12-01 08:26:00</td>\n",
       "      <td>3.39</td>\n",
       "      <td>17850.0</td>\n",
       "      <td>United Kingdom</td>\n",
       "      <td>2010-12-01</td>\n",
       "      <td>8</td>\n",
       "      <td>2010</td>\n",
       "      <td>12</td>\n",
       "      <td>1</td>\n",
       "      <td>20.34</td>\n",
       "    </tr>\n",
       "    <tr>\n",
       "      <th>2</th>\n",
       "      <td>536365</td>\n",
       "      <td>84406B</td>\n",
       "      <td>CREAM CUPID HEARTS COAT HANGER</td>\n",
       "      <td>8</td>\n",
       "      <td>2010-12-01 08:26:00</td>\n",
       "      <td>2.75</td>\n",
       "      <td>17850.0</td>\n",
       "      <td>United Kingdom</td>\n",
       "      <td>2010-12-01</td>\n",
       "      <td>8</td>\n",
       "      <td>2010</td>\n",
       "      <td>12</td>\n",
       "      <td>1</td>\n",
       "      <td>22.00</td>\n",
       "    </tr>\n",
       "    <tr>\n",
       "      <th>3</th>\n",
       "      <td>536365</td>\n",
       "      <td>84029G</td>\n",
       "      <td>KNITTED UNION FLAG HOT WATER BOTTLE</td>\n",
       "      <td>6</td>\n",
       "      <td>2010-12-01 08:26:00</td>\n",
       "      <td>3.39</td>\n",
       "      <td>17850.0</td>\n",
       "      <td>United Kingdom</td>\n",
       "      <td>2010-12-01</td>\n",
       "      <td>8</td>\n",
       "      <td>2010</td>\n",
       "      <td>12</td>\n",
       "      <td>1</td>\n",
       "      <td>20.34</td>\n",
       "    </tr>\n",
       "    <tr>\n",
       "      <th>4</th>\n",
       "      <td>536365</td>\n",
       "      <td>84029E</td>\n",
       "      <td>RED WOOLLY HOTTIE WHITE HEART.</td>\n",
       "      <td>6</td>\n",
       "      <td>2010-12-01 08:26:00</td>\n",
       "      <td>3.39</td>\n",
       "      <td>17850.0</td>\n",
       "      <td>United Kingdom</td>\n",
       "      <td>2010-12-01</td>\n",
       "      <td>8</td>\n",
       "      <td>2010</td>\n",
       "      <td>12</td>\n",
       "      <td>1</td>\n",
       "      <td>20.34</td>\n",
       "    </tr>\n",
       "    <tr>\n",
       "      <th>...</th>\n",
       "      <td>...</td>\n",
       "      <td>...</td>\n",
       "      <td>...</td>\n",
       "      <td>...</td>\n",
       "      <td>...</td>\n",
       "      <td>...</td>\n",
       "      <td>...</td>\n",
       "      <td>...</td>\n",
       "      <td>...</td>\n",
       "      <td>...</td>\n",
       "      <td>...</td>\n",
       "      <td>...</td>\n",
       "      <td>...</td>\n",
       "      <td>...</td>\n",
       "    </tr>\n",
       "    <tr>\n",
       "      <th>541904</th>\n",
       "      <td>581587</td>\n",
       "      <td>22613</td>\n",
       "      <td>PACK OF 20 SPACEBOY NAPKINS</td>\n",
       "      <td>12</td>\n",
       "      <td>2011-12-09 12:50:00</td>\n",
       "      <td>0.85</td>\n",
       "      <td>12680.0</td>\n",
       "      <td>France</td>\n",
       "      <td>2011-12-09</td>\n",
       "      <td>12</td>\n",
       "      <td>2011</td>\n",
       "      <td>12</td>\n",
       "      <td>9</td>\n",
       "      <td>10.20</td>\n",
       "    </tr>\n",
       "    <tr>\n",
       "      <th>541905</th>\n",
       "      <td>581587</td>\n",
       "      <td>22899</td>\n",
       "      <td>CHILDREN'S APRON DOLLY GIRL</td>\n",
       "      <td>6</td>\n",
       "      <td>2011-12-09 12:50:00</td>\n",
       "      <td>2.10</td>\n",
       "      <td>12680.0</td>\n",
       "      <td>France</td>\n",
       "      <td>2011-12-09</td>\n",
       "      <td>12</td>\n",
       "      <td>2011</td>\n",
       "      <td>12</td>\n",
       "      <td>9</td>\n",
       "      <td>12.60</td>\n",
       "    </tr>\n",
       "    <tr>\n",
       "      <th>541906</th>\n",
       "      <td>581587</td>\n",
       "      <td>23254</td>\n",
       "      <td>CHILDRENS CUTLERY DOLLY GIRL</td>\n",
       "      <td>4</td>\n",
       "      <td>2011-12-09 12:50:00</td>\n",
       "      <td>4.15</td>\n",
       "      <td>12680.0</td>\n",
       "      <td>France</td>\n",
       "      <td>2011-12-09</td>\n",
       "      <td>12</td>\n",
       "      <td>2011</td>\n",
       "      <td>12</td>\n",
       "      <td>9</td>\n",
       "      <td>16.60</td>\n",
       "    </tr>\n",
       "    <tr>\n",
       "      <th>541907</th>\n",
       "      <td>581587</td>\n",
       "      <td>23255</td>\n",
       "      <td>CHILDRENS CUTLERY CIRCUS PARADE</td>\n",
       "      <td>4</td>\n",
       "      <td>2011-12-09 12:50:00</td>\n",
       "      <td>4.15</td>\n",
       "      <td>12680.0</td>\n",
       "      <td>France</td>\n",
       "      <td>2011-12-09</td>\n",
       "      <td>12</td>\n",
       "      <td>2011</td>\n",
       "      <td>12</td>\n",
       "      <td>9</td>\n",
       "      <td>16.60</td>\n",
       "    </tr>\n",
       "    <tr>\n",
       "      <th>541908</th>\n",
       "      <td>581587</td>\n",
       "      <td>22138</td>\n",
       "      <td>BAKING SET 9 PIECE RETROSPOT</td>\n",
       "      <td>3</td>\n",
       "      <td>2011-12-09 12:50:00</td>\n",
       "      <td>4.95</td>\n",
       "      <td>12680.0</td>\n",
       "      <td>France</td>\n",
       "      <td>2011-12-09</td>\n",
       "      <td>12</td>\n",
       "      <td>2011</td>\n",
       "      <td>12</td>\n",
       "      <td>9</td>\n",
       "      <td>14.85</td>\n",
       "    </tr>\n",
       "  </tbody>\n",
       "</table>\n",
       "<p>406829 rows × 14 columns</p>\n",
       "</div>"
      ],
      "text/plain": [
       "       InvoiceNo StockCode                          Description  Quantity  \\\n",
       "0         536365    85123A   WHITE HANGING HEART T-LIGHT HOLDER         6   \n",
       "1         536365     71053                  WHITE METAL LANTERN         6   \n",
       "2         536365    84406B       CREAM CUPID HEARTS COAT HANGER         8   \n",
       "3         536365    84029G  KNITTED UNION FLAG HOT WATER BOTTLE         6   \n",
       "4         536365    84029E       RED WOOLLY HOTTIE WHITE HEART.         6   \n",
       "...          ...       ...                                  ...       ...   \n",
       "541904    581587     22613          PACK OF 20 SPACEBOY NAPKINS        12   \n",
       "541905    581587     22899         CHILDREN'S APRON DOLLY GIRL          6   \n",
       "541906    581587     23254        CHILDRENS CUTLERY DOLLY GIRL          4   \n",
       "541907    581587     23255      CHILDRENS CUTLERY CIRCUS PARADE         4   \n",
       "541908    581587     22138        BAKING SET 9 PIECE RETROSPOT          3   \n",
       "\n",
       "               InvoiceDate  UnitPrice  CustomerID         Country       InvDt  \\\n",
       "0      2010-12-01 08:26:00       2.55     17850.0  United Kingdom  2010-12-01   \n",
       "1      2010-12-01 08:26:00       3.39     17850.0  United Kingdom  2010-12-01   \n",
       "2      2010-12-01 08:26:00       2.75     17850.0  United Kingdom  2010-12-01   \n",
       "3      2010-12-01 08:26:00       3.39     17850.0  United Kingdom  2010-12-01   \n",
       "4      2010-12-01 08:26:00       3.39     17850.0  United Kingdom  2010-12-01   \n",
       "...                    ...        ...         ...             ...         ...   \n",
       "541904 2011-12-09 12:50:00       0.85     12680.0          France  2011-12-09   \n",
       "541905 2011-12-09 12:50:00       2.10     12680.0          France  2011-12-09   \n",
       "541906 2011-12-09 12:50:00       4.15     12680.0          France  2011-12-09   \n",
       "541907 2011-12-09 12:50:00       4.15     12680.0          France  2011-12-09   \n",
       "541908 2011-12-09 12:50:00       4.95     12680.0          France  2011-12-09   \n",
       "\n",
       "        InvHr  InvYr  InvMo  InvDy  total_price  \n",
       "0           8   2010     12      1        15.30  \n",
       "1           8   2010     12      1        20.34  \n",
       "2           8   2010     12      1        22.00  \n",
       "3           8   2010     12      1        20.34  \n",
       "4           8   2010     12      1        20.34  \n",
       "...       ...    ...    ...    ...          ...  \n",
       "541904     12   2011     12      9        10.20  \n",
       "541905     12   2011     12      9        12.60  \n",
       "541906     12   2011     12      9        16.60  \n",
       "541907     12   2011     12      9        16.60  \n",
       "541908     12   2011     12      9        14.85  \n",
       "\n",
       "[406829 rows x 14 columns]"
      ]
     },
     "execution_count": 12,
     "metadata": {},
     "output_type": "execute_result"
    }
   ],
   "source": [
    "data"
   ]
  },
  {
   "cell_type": "code",
   "execution_count": 13,
   "id": "6c9b99b7",
   "metadata": {},
   "outputs": [],
   "source": [
    "#Create a function that convert the dataframe into groupby informaiton\n",
    "def pivot_table(dataframe, row_index, val_column, no_record,aggregated_func):\n",
    "    piv = pd.pivot_table(dataframe,values=val_column, index=row_index, aggfunc= aggregated_func, fill_value=0)\n",
    "    piv = piv.reset_index()#Resetting index so we can get back a grouped dataframe\n",
    "    pd.set_option('display.max_colwidth',-1)#Display entaer column data\n",
    "    piv.sort_values(val_column,ascending=False, inplace=True, axis=0)#Sort by value desc since we want to retive top5\n",
    "    piv = piv.head(no_record)\n",
    "    return piv"
   ]
  },
  {
   "cell_type": "code",
   "execution_count": 20,
   "id": "d54da8c9",
   "metadata": {},
   "outputs": [
    {
     "name": "stderr",
     "output_type": "stream",
     "text": [
      "C:\\Users\\Dhrupad\\AppData\\Local\\Temp\\ipykernel_34088\\1214124144.py:5: FutureWarning: Passing a negative integer is deprecated in version 1.0 and will not be supported in future version. Instead, use None to not limit the column width.\n",
      "  pd.set_option('display.max_colwidth',-1)#Display entaer column data\n",
      "C:\\Users\\Dhrupad\\AppData\\Local\\Programs\\Python\\Python39\\lib\\site-packages\\seaborn\\_decorators.py:36: FutureWarning: Pass the following variables as keyword args: x, y. From version 0.12, the only valid positional argument will be `data`, and passing other arguments without an explicit keyword will result in an error or misinterpretation.\n",
      "  warnings.warn(\n"
     ]
    },
    {
     "data": {
      "text/plain": [
       "Text(0.5, 1.0, 'Top 5 Countries having highest sales')"
      ]
     },
     "execution_count": 20,
     "metadata": {},
     "output_type": "execute_result"
    },
    {
     "data": {
      "image/png": "[encoded data removed]",
      "text/plain": [
       "<Figure size 792x576 with 1 Axes>"
      ]
     },
     "metadata": {
      "needs_background": "light"
     },
     "output_type": "display_data"
    }
   ],
   "source": [
    "#Setting the axis for the visualization plots\n",
    "a4_dims = (11,8)\n",
    "fig, ax = plt.subplots(figsize=a4_dims)\n",
    "piv=pivot_table(data,row_index='Country',val_column='total_price',no_record=5,aggregated_func=np.sum)\n",
    "sns.barplot(piv['Country'],piv['total_price'],ax=ax).set_title('Top 5 Countries having highest sales') # The barplot"
   ]
  },
  {
   "cell_type": "code",
   "execution_count": 35,
   "id": "eb8c3275",
   "metadata": {},
   "outputs": [
    {
     "data": {
      "image/png": "[encoded data removed]",
      "text/plain": [
       "<Figure size 1280x960 with 1 Axes>"
      ]
     },
     "metadata": {},
     "output_type": "display_data"
    }
   ],
   "source": [
    "ss = piv.groupby('Country')\n",
    "y = ss.first()\n",
    "\n",
    "plt.figure(figsize =(16,12),dpi=80)\n",
    "plt.title('top 5 countries with most of sells')\n",
    "z = y['total_price'].plot(kind='pie', autopct='%1.1f%%')\n",
    "plt.tick_params(axis='x',labelsize=14)\n",
    "plt.tick_params(axis='y',labelsize=14)\n",
    "plt.grid(which='major',color='y', linestyle='--')\n",
    "plt.show()"
   ]
  },
  {
   "cell_type": "code",
   "execution_count": 37,
   "id": "ec814778",
   "metadata": {},
   "outputs": [
    {
     "name": "stdout",
     "output_type": "stream",
     "text": [
      "United Kingdom          88.950886\n",
      "Germany                 2.333904 \n",
      "France                  2.087118 \n",
      "EIRE                    1.839839 \n",
      "Spain                   0.622620 \n",
      "Netherlands             0.582800 \n",
      "Belgium                 0.508567 \n",
      "Switzerland             0.461373 \n",
      "Portugal                0.363789 \n",
      "Australia               0.309467 \n",
      "Norway                  0.266943 \n",
      "Italy                   0.197380 \n",
      "Channel Islands         0.186319 \n",
      "Finland                 0.170833 \n",
      "Cyprus                  0.152890 \n",
      "Sweden                  0.113561 \n",
      "Austria                 0.098567 \n",
      "Denmark                 0.095618 \n",
      "Japan                   0.087998 \n",
      "Poland                  0.083819 \n",
      "USA                     0.071529 \n",
      "Israel                  0.061451 \n",
      "Unspecified             0.059976 \n",
      "Singapore               0.056289 \n",
      "Iceland                 0.044736 \n",
      "Canada                  0.037116 \n",
      "Greece                  0.035887 \n",
      "Malta                   0.031217 \n",
      "United Arab Emirates    0.016715 \n",
      "European Community      0.014994 \n",
      "RSA                     0.014257 \n",
      "Lebanon                 0.011061 \n",
      "Lithuania               0.008603 \n",
      "Brazil                  0.007866 \n",
      "Czech Republic          0.007374 \n",
      "Bahrain                 0.004179 \n",
      "Saudi Arabia            0.002458 \n",
      "Name: Country, dtype: float64\n"
     ]
    }
   ],
   "source": [
    "print(data['Country'].value_counts()*100/len(data['Country']))"
   ]
  },
  {
   "cell_type": "code",
   "execution_count": 43,
   "id": "46c8df38",
   "metadata": {},
   "outputs": [],
   "source": [
    "county_info = data['Country'].value_counts()*100/len(data['Country'])"
   ]
  },
  {
   "cell_type": "code",
   "execution_count": 60,
   "id": "ef8f8ada",
   "metadata": {
    "scrolled": false
   },
   "outputs": [
    {
     "data": {
      "text/plain": [
       "<BarContainer object of 37 artists>"
      ]
     },
     "execution_count": 60,
     "metadata": {},
     "output_type": "execute_result"
    },
    {
     "data": {
      "image/png": "[encoded data removed]",
      "text/plain": [
       "<Figure size 1280x960 with 1 Axes>"
      ]
     },
     "metadata": {
      "needs_background": "light"
     },
     "output_type": "display_data"
    }
   ],
   "source": [
    "plt.figure(figsize =(16,12),dpi=80)\n",
    "plt.bar(county_info.keys(),county_info)"
   ]
  },
  {
   "cell_type": "code",
   "execution_count": 61,
   "id": "9fd0f5e5",
   "metadata": {},
   "outputs": [],
   "source": [
    "uk_df = data[data['Country']=='United Kingdom']"
   ]
  },
  {
   "cell_type": "code",
   "execution_count": 62,
   "id": "489692fa",
   "metadata": {},
   "outputs": [
    {
     "data": {
      "text/html": [
       "<div>\n",
       "<style scoped>\n",
       "    .dataframe tbody tr th:only-of-type {\n",
       "        vertical-align: middle;\n",
       "    }\n",
       "\n",
       "    .dataframe tbody tr th {\n",
       "        vertical-align: top;\n",
       "    }\n",
       "\n",
       "    .dataframe thead th {\n",
       "        text-align: right;\n",
       "    }\n",
       "</style>\n",
       "<table border=\"1\" class=\"dataframe\">\n",
       "  <thead>\n",
       "    <tr style=\"text-align: right;\">\n",
       "      <th></th>\n",
       "      <th>InvoiceNo</th>\n",
       "      <th>StockCode</th>\n",
       "      <th>Description</th>\n",
       "      <th>Quantity</th>\n",
       "      <th>InvoiceDate</th>\n",
       "      <th>UnitPrice</th>\n",
       "      <th>CustomerID</th>\n",
       "      <th>Country</th>\n",
       "      <th>InvDt</th>\n",
       "      <th>InvHr</th>\n",
       "      <th>InvYr</th>\n",
       "      <th>InvMo</th>\n",
       "      <th>InvDy</th>\n",
       "      <th>total_price</th>\n",
       "    </tr>\n",
       "  </thead>\n",
       "  <tbody>\n",
       "    <tr>\n",
       "      <th>0</th>\n",
       "      <td>536365</td>\n",
       "      <td>85123A</td>\n",
       "      <td>WHITE HANGING HEART T-LIGHT HOLDER</td>\n",
       "      <td>6</td>\n",
       "      <td>2010-12-01 08:26:00</td>\n",
       "      <td>2.55</td>\n",
       "      <td>17850.0</td>\n",
       "      <td>United Kingdom</td>\n",
       "      <td>2010-12-01</td>\n",
       "      <td>8</td>\n",
       "      <td>2010</td>\n",
       "      <td>12</td>\n",
       "      <td>1</td>\n",
       "      <td>15.30</td>\n",
       "    </tr>\n",
       "    <tr>\n",
       "      <th>1</th>\n",
       "      <td>536365</td>\n",
       "      <td>71053</td>\n",
       "      <td>WHITE METAL LANTERN</td>\n",
       "      <td>6</td>\n",
       "      <td>2010-12-01 08:26:00</td>\n",
       "      <td>3.39</td>\n",
       "      <td>17850.0</td>\n",
       "      <td>United Kingdom</td>\n",
       "      <td>2010-12-01</td>\n",
       "      <td>8</td>\n",
       "      <td>2010</td>\n",
       "      <td>12</td>\n",
       "      <td>1</td>\n",
       "      <td>20.34</td>\n",
       "    </tr>\n",
       "    <tr>\n",
       "      <th>2</th>\n",
       "      <td>536365</td>\n",
       "      <td>84406B</td>\n",
       "      <td>CREAM CUPID HEARTS COAT HANGER</td>\n",
       "      <td>8</td>\n",
       "      <td>2010-12-01 08:26:00</td>\n",
       "      <td>2.75</td>\n",
       "      <td>17850.0</td>\n",
       "      <td>United Kingdom</td>\n",
       "      <td>2010-12-01</td>\n",
       "      <td>8</td>\n",
       "      <td>2010</td>\n",
       "      <td>12</td>\n",
       "      <td>1</td>\n",
       "      <td>22.00</td>\n",
       "    </tr>\n",
       "    <tr>\n",
       "      <th>3</th>\n",
       "      <td>536365</td>\n",
       "      <td>84029G</td>\n",
       "      <td>KNITTED UNION FLAG HOT WATER BOTTLE</td>\n",
       "      <td>6</td>\n",
       "      <td>2010-12-01 08:26:00</td>\n",
       "      <td>3.39</td>\n",
       "      <td>17850.0</td>\n",
       "      <td>United Kingdom</td>\n",
       "      <td>2010-12-01</td>\n",
       "      <td>8</td>\n",
       "      <td>2010</td>\n",
       "      <td>12</td>\n",
       "      <td>1</td>\n",
       "      <td>20.34</td>\n",
       "    </tr>\n",
       "    <tr>\n",
       "      <th>4</th>\n",
       "      <td>536365</td>\n",
       "      <td>84029E</td>\n",
       "      <td>RED WOOLLY HOTTIE WHITE HEART.</td>\n",
       "      <td>6</td>\n",
       "      <td>2010-12-01 08:26:00</td>\n",
       "      <td>3.39</td>\n",
       "      <td>17850.0</td>\n",
       "      <td>United Kingdom</td>\n",
       "      <td>2010-12-01</td>\n",
       "      <td>8</td>\n",
       "      <td>2010</td>\n",
       "      <td>12</td>\n",
       "      <td>1</td>\n",
       "      <td>20.34</td>\n",
       "    </tr>\n",
       "    <tr>\n",
       "      <th>...</th>\n",
       "      <td>...</td>\n",
       "      <td>...</td>\n",
       "      <td>...</td>\n",
       "      <td>...</td>\n",
       "      <td>...</td>\n",
       "      <td>...</td>\n",
       "      <td>...</td>\n",
       "      <td>...</td>\n",
       "      <td>...</td>\n",
       "      <td>...</td>\n",
       "      <td>...</td>\n",
       "      <td>...</td>\n",
       "      <td>...</td>\n",
       "      <td>...</td>\n",
       "    </tr>\n",
       "    <tr>\n",
       "      <th>541889</th>\n",
       "      <td>581585</td>\n",
       "      <td>22466</td>\n",
       "      <td>FAIRY TALE COTTAGE NIGHT LIGHT</td>\n",
       "      <td>12</td>\n",
       "      <td>2011-12-09 12:31:00</td>\n",
       "      <td>1.95</td>\n",
       "      <td>15804.0</td>\n",
       "      <td>United Kingdom</td>\n",
       "      <td>2011-12-09</td>\n",
       "      <td>12</td>\n",
       "      <td>2011</td>\n",
       "      <td>12</td>\n",
       "      <td>9</td>\n",
       "      <td>23.40</td>\n",
       "    </tr>\n",
       "    <tr>\n",
       "      <th>541890</th>\n",
       "      <td>581586</td>\n",
       "      <td>22061</td>\n",
       "      <td>LARGE CAKE STAND  HANGING STRAWBERY</td>\n",
       "      <td>8</td>\n",
       "      <td>2011-12-09 12:49:00</td>\n",
       "      <td>2.95</td>\n",
       "      <td>13113.0</td>\n",
       "      <td>United Kingdom</td>\n",
       "      <td>2011-12-09</td>\n",
       "      <td>12</td>\n",
       "      <td>2011</td>\n",
       "      <td>12</td>\n",
       "      <td>9</td>\n",
       "      <td>23.60</td>\n",
       "    </tr>\n",
       "    <tr>\n",
       "      <th>541891</th>\n",
       "      <td>581586</td>\n",
       "      <td>23275</td>\n",
       "      <td>SET OF 3 HANGING OWLS OLLIE BEAK</td>\n",
       "      <td>24</td>\n",
       "      <td>2011-12-09 12:49:00</td>\n",
       "      <td>1.25</td>\n",
       "      <td>13113.0</td>\n",
       "      <td>United Kingdom</td>\n",
       "      <td>2011-12-09</td>\n",
       "      <td>12</td>\n",
       "      <td>2011</td>\n",
       "      <td>12</td>\n",
       "      <td>9</td>\n",
       "      <td>30.00</td>\n",
       "    </tr>\n",
       "    <tr>\n",
       "      <th>541892</th>\n",
       "      <td>581586</td>\n",
       "      <td>21217</td>\n",
       "      <td>RED RETROSPOT ROUND CAKE TINS</td>\n",
       "      <td>24</td>\n",
       "      <td>2011-12-09 12:49:00</td>\n",
       "      <td>8.95</td>\n",
       "      <td>13113.0</td>\n",
       "      <td>United Kingdom</td>\n",
       "      <td>2011-12-09</td>\n",
       "      <td>12</td>\n",
       "      <td>2011</td>\n",
       "      <td>12</td>\n",
       "      <td>9</td>\n",
       "      <td>214.80</td>\n",
       "    </tr>\n",
       "    <tr>\n",
       "      <th>541893</th>\n",
       "      <td>581586</td>\n",
       "      <td>20685</td>\n",
       "      <td>DOORMAT RED RETROSPOT</td>\n",
       "      <td>10</td>\n",
       "      <td>2011-12-09 12:49:00</td>\n",
       "      <td>7.08</td>\n",
       "      <td>13113.0</td>\n",
       "      <td>United Kingdom</td>\n",
       "      <td>2011-12-09</td>\n",
       "      <td>12</td>\n",
       "      <td>2011</td>\n",
       "      <td>12</td>\n",
       "      <td>9</td>\n",
       "      <td>70.80</td>\n",
       "    </tr>\n",
       "  </tbody>\n",
       "</table>\n",
       "<p>361878 rows × 14 columns</p>\n",
       "</div>"
      ],
      "text/plain": [
       "       InvoiceNo StockCode                          Description  Quantity  \\\n",
       "0       536365    85123A    WHITE HANGING HEART T-LIGHT HOLDER   6          \n",
       "1       536365    71053     WHITE METAL LANTERN                  6          \n",
       "2       536365    84406B    CREAM CUPID HEARTS COAT HANGER       8          \n",
       "3       536365    84029G    KNITTED UNION FLAG HOT WATER BOTTLE  6          \n",
       "4       536365    84029E    RED WOOLLY HOTTIE WHITE HEART.       6          \n",
       "...        ...       ...                               ...      ..          \n",
       "541889  581585    22466     FAIRY TALE COTTAGE NIGHT LIGHT       12         \n",
       "541890  581586    22061     LARGE CAKE STAND  HANGING STRAWBERY  8          \n",
       "541891  581586    23275     SET OF 3 HANGING OWLS OLLIE BEAK     24         \n",
       "541892  581586    21217     RED RETROSPOT ROUND CAKE TINS        24         \n",
       "541893  581586    20685     DOORMAT RED RETROSPOT                10         \n",
       "\n",
       "               InvoiceDate  UnitPrice  CustomerID         Country       InvDt  \\\n",
       "0      2010-12-01 08:26:00  2.55       17850.0     United Kingdom  2010-12-01   \n",
       "1      2010-12-01 08:26:00  3.39       17850.0     United Kingdom  2010-12-01   \n",
       "2      2010-12-01 08:26:00  2.75       17850.0     United Kingdom  2010-12-01   \n",
       "3      2010-12-01 08:26:00  3.39       17850.0     United Kingdom  2010-12-01   \n",
       "4      2010-12-01 08:26:00  3.39       17850.0     United Kingdom  2010-12-01   \n",
       "...                    ...   ...           ...                ...         ...   \n",
       "541889 2011-12-09 12:31:00  1.95       15804.0     United Kingdom  2011-12-09   \n",
       "541890 2011-12-09 12:49:00  2.95       13113.0     United Kingdom  2011-12-09   \n",
       "541891 2011-12-09 12:49:00  1.25       13113.0     United Kingdom  2011-12-09   \n",
       "541892 2011-12-09 12:49:00  8.95       13113.0     United Kingdom  2011-12-09   \n",
       "541893 2011-12-09 12:49:00  7.08       13113.0     United Kingdom  2011-12-09   \n",
       "\n",
       "        InvHr  InvYr  InvMo  InvDy  total_price  \n",
       "0       8      2010   12     1      15.30        \n",
       "1       8      2010   12     1      20.34        \n",
       "2       8      2010   12     1      22.00        \n",
       "3       8      2010   12     1      20.34        \n",
       "4       8      2010   12     1      20.34        \n",
       "...    ..       ...   ..    ..        ...        \n",
       "541889  12     2011   12     9      23.40        \n",
       "541890  12     2011   12     9      23.60        \n",
       "541891  12     2011   12     9      30.00        \n",
       "541892  12     2011   12     9      214.80       \n",
       "541893  12     2011   12     9      70.80        \n",
       "\n",
       "[361878 rows x 14 columns]"
      ]
     },
     "execution_count": 62,
     "metadata": {},
     "output_type": "execute_result"
    }
   ],
   "source": [
    "uk_df"
   ]
  },
  {
   "cell_type": "markdown",
   "id": "29871ca9",
   "metadata": {},
   "source": [
    "# Consumer Information"
   ]
  },
  {
   "cell_type": "code",
   "execution_count": 69,
   "id": "dde65d60",
   "metadata": {},
   "outputs": [
    {
     "name": "stderr",
     "output_type": "stream",
     "text": [
      "C:\\Users\\Dhrupad\\AppData\\Local\\Temp\\ipykernel_34088\\1214124144.py:5: FutureWarning: Passing a negative integer is deprecated in version 1.0 and will not be supported in future version. Instead, use None to not limit the column width.\n",
      "  pd.set_option('display.max_colwidth',-1)#Display entaer column data\n",
      "C:\\Users\\Dhrupad\\AppData\\Local\\Programs\\Python\\Python39\\lib\\site-packages\\seaborn\\_decorators.py:36: FutureWarning: Pass the following variables as keyword args: x, y. From version 0.12, the only valid positional argument will be `data`, and passing other arguments without an explicit keyword will result in an error or misinterpretation.\n",
      "  warnings.warn(\n"
     ]
    },
    {
     "data": {
      "text/plain": [
       "Text(0.5, 1.0, 'Top 10 most happly consumer')"
      ]
     },
     "execution_count": 69,
     "metadata": {},
     "output_type": "execute_result"
    }
   ],
   "source": [
    "piv = pivot_table(data,row_index='CustomerID', val_column='UnitPrice', no_record=10,aggregated_func=np.sum)\n",
    "sns.barplot(piv['CustomerID'],piv['UnitPrice'],ax=ax).set_title('Top 10 most happly consumer')"
   ]
  },
  {
   "cell_type": "markdown",
   "id": "fa283617",
   "metadata": {},
   "source": [
    "# Hot salling products"
   ]
  },
  {
   "cell_type": "code",
   "execution_count": 70,
   "id": "5c02ab23",
   "metadata": {},
   "outputs": [
    {
     "name": "stderr",
     "output_type": "stream",
     "text": [
      "C:\\Users\\Dhrupad\\AppData\\Local\\Temp\\ipykernel_34088\\1214124144.py:5: FutureWarning: Passing a negative integer is deprecated in version 1.0 and will not be supported in future version. Instead, use None to not limit the column width.\n",
      "  pd.set_option('display.max_colwidth',-1)#Display entaer column data\n",
      "C:\\Users\\Dhrupad\\AppData\\Local\\Programs\\Python\\Python39\\lib\\site-packages\\seaborn\\_decorators.py:36: FutureWarning: Pass the following variables as keyword args: x, y. From version 0.12, the only valid positional argument will be `data`, and passing other arguments without an explicit keyword will result in an error or misinterpretation.\n",
      "  warnings.warn(\n"
     ]
    },
    {
     "data": {
      "text/plain": [
       "Text(0.5, 1.0, 'Hot salling product')"
      ]
     },
     "execution_count": 70,
     "metadata": {},
     "output_type": "execute_result"
    }
   ],
   "source": [
    "piv=pivot_table(data,row_index='Description', val_column='UnitPrice',no_record=10, aggregated_func=np.sum)\n",
    "sns.barplot(piv['Description'],piv['UnitPrice'], ax=ax).set_title('Hot salling product')"
   ]
  },
  {
   "cell_type": "markdown",
   "id": "99aa31d3",
   "metadata": {},
   "source": [
    "# Monthly product Salling"
   ]
  },
  {
   "cell_type": "code",
   "execution_count": 97,
   "id": "880a7c25",
   "metadata": {},
   "outputs": [
    {
     "name": "stderr",
     "output_type": "stream",
     "text": [
      "C:\\Users\\Dhrupad\\AppData\\Local\\Temp\\ipykernel_34088\\607880778.py:9: SettingWithCopyWarning:\n",
      "\n",
      "\n",
      "A value is trying to be set on a copy of a slice from a DataFrame.\n",
      "Try using .loc[row_indexer,col_indexer] = value instead\n",
      "\n",
      "See the caveats in the documentation: https://pandas.pydata.org/pandas-docs/stable/user_guide/indexing.html#returning-a-view-versus-a-copy\n",
      "\n"
     ]
    }
   ],
   "source": [
    "piv = pd.pivot_table(data,index=['InvMo','Description'], values='UnitPrice')\n",
    "product_df = piv.reset_index()\n",
    "\n",
    "n = product_df.groupby('InvMo').head(5)\n",
    "\n",
    "n.reset_index()\n",
    "n.sort_values('InvMo',inplace=True,ascending=True,axis=0)# Sorting by month of the year\n",
    "\n",
    "n['InvMo']=n['InvMo'].map({1:'January',2:'February',3:'March',4:'April',5:'May',6:'June',7:'July',8:'August',\n",
    "                           9:'September',10:'October',11:'November',12:'December'})\n",
    "\n",
    "fig = px.bar(y = n['Description'],x=n['UnitPrice'],animation_frame=n['InvMo'],template='presentation',log_x=True, \n",
    "             labels={'x':'Unit sold','y':'Unit Name'})"
   ]
  },
  {
   "cell_type": "code",
   "execution_count": 98,
   "id": "b10c67a3",
   "metadata": {},
   "outputs": [
    {
     "data": {
      "application/vnd.plotly.v1+json": {
       "config": {
        "plotlyServerURL": "https://plot.ly"
       },
       "data": [
        {
         "alignmentgroup": "True",
         "hovertemplate": "animation_frame=January<br>Unit sold=%{x}<br>Unit Name=%{y}<extra></extra>",
         "legendgroup": "",
         "marker": {
          "color": "#1F77B4",
          "pattern": {
           "shape": ""
          }
         },
         "name": "",
         "offsetgroup": "",
         "orientation": "h",
         "showlegend": false,
         "textposition": "auto",
         "type": "bar",
         "x": [
          2.55,
          9.95,
          2.9166666666666665,
          0.85,
          0.65
         ],
         "xaxis": "x",
         "y": [
          " 4 PURPLE FLOCK DINNER CANDLES",
          " OVAL WALL MIRROR DIAMANTE ",
          " SET 2 TEA TOWELS I LOVE LONDON ",
          "10 COLOUR SPACEBOY PEN",
          "12 COLOURED PARTY BALLOONS"
         ],
         "yaxis": "y"
        }
       ],
       "frames": [
        {
         "data": [
          {
           "alignmentgroup": "True",
           "hovertemplate": "animation_frame=January<br>Unit sold=%{x}<br>Unit Name=%{y}<extra></extra>",
           "legendgroup": "",
           "marker": {
            "color": "#1F77B4",
            "pattern": {
             "shape": ""
            }
           },
           "name": "",
           "offsetgroup": "",
           "orientation": "h",
           "showlegend": false,
           "textposition": "auto",
           "type": "bar",
           "x": [
            2.55,
            9.95,
            2.9166666666666665,
            0.85,
            0.65
           ],
           "xaxis": "x",
           "y": [
            " 4 PURPLE FLOCK DINNER CANDLES",
            " OVAL WALL MIRROR DIAMANTE ",
            " SET 2 TEA TOWELS I LOVE LONDON ",
            "10 COLOUR SPACEBOY PEN",
            "12 COLOURED PARTY BALLOONS"
           ],
           "yaxis": "y"
          }
         ],
         "name": "January"
        },
        {
         "data": [
          {
           "alignmentgroup": "True",
           "hovertemplate": "animation_frame=February<br>Unit sold=%{x}<br>Unit Name=%{y}<extra></extra>",
           "legendgroup": "",
           "marker": {
            "color": "#1F77B4",
            "pattern": {
             "shape": ""
            }
           },
           "name": "",
           "offsetgroup": "",
           "orientation": "h",
           "showlegend": false,
           "textposition": "auto",
           "type": "bar",
           "x": [
            2.55,
            9.95,
            2.935185185185185,
            0.85,
            0.65
           ],
           "xaxis": "x",
           "y": [
            " 4 PURPLE FLOCK DINNER CANDLES",
            " OVAL WALL MIRROR DIAMANTE ",
            " SET 2 TEA TOWELS I LOVE LONDON ",
            "10 COLOUR SPACEBOY PEN",
            "12 COLOURED PARTY BALLOONS"
           ],
           "yaxis": "y"
          }
         ],
         "name": "February"
        },
        {
         "data": [
          {
           "alignmentgroup": "True",
           "hovertemplate": "animation_frame=March<br>Unit sold=%{x}<br>Unit Name=%{y}<extra></extra>",
           "legendgroup": "",
           "marker": {
            "color": "#1F77B4",
            "pattern": {
             "shape": ""
            }
           },
           "name": "",
           "offsetgroup": "",
           "orientation": "h",
           "showlegend": false,
           "textposition": "auto",
           "type": "bar",
           "x": [
            0.65,
            16.222727272727273,
            0.8499999999999999,
            9.95,
            2.935277777777778
           ],
           "xaxis": "x",
           "y": [
            "12 COLOURED PARTY BALLOONS",
            " SPACEBOY BABY GIFT SET",
            "10 COLOUR SPACEBOY PEN",
            " OVAL WALL MIRROR DIAMANTE ",
            " SET 2 TEA TOWELS I LOVE LONDON "
           ],
           "yaxis": "y"
          }
         ],
         "name": "March"
        },
        {
         "data": [
          {
           "alignmentgroup": "True",
           "hovertemplate": "animation_frame=April<br>Unit sold=%{x}<br>Unit Name=%{y}<extra></extra>",
           "legendgroup": "",
           "marker": {
            "color": "#1F77B4",
            "pattern": {
             "shape": ""
            }
           },
           "name": "",
           "offsetgroup": "",
           "orientation": "h",
           "showlegend": false,
           "textposition": "auto",
           "type": "bar",
           "x": [
            2.55,
            9.95,
            3.225757575757576,
            16.505555555555553,
            0.8499999999999999
           ],
           "xaxis": "x",
           "y": [
            " 4 PURPLE FLOCK DINNER CANDLES",
            " OVAL WALL MIRROR DIAMANTE ",
            " SET 2 TEA TOWELS I LOVE LONDON ",
            " SPACEBOY BABY GIFT SET",
            "10 COLOUR SPACEBOY PEN"
           ],
           "yaxis": "y"
          }
         ],
         "name": "April"
        },
        {
         "data": [
          {
           "alignmentgroup": "True",
           "hovertemplate": "animation_frame=May<br>Unit sold=%{x}<br>Unit Name=%{y}<extra></extra>",
           "legendgroup": "",
           "marker": {
            "color": "#1F77B4",
            "pattern": {
             "shape": ""
            }
           },
           "name": "",
           "offsetgroup": "",
           "orientation": "h",
           "showlegend": false,
           "textposition": "auto",
           "type": "bar",
           "x": [
            2.55,
            9.283333333333333,
            3.21875,
            16.36176470588235,
            0.8431578947368421
           ],
           "xaxis": "x",
           "y": [
            " 4 PURPLE FLOCK DINNER CANDLES",
            " OVAL WALL MIRROR DIAMANTE ",
            " SET 2 TEA TOWELS I LOVE LONDON ",
            " SPACEBOY BABY GIFT SET",
            "10 COLOUR SPACEBOY PEN"
           ],
           "yaxis": "y"
          }
         ],
         "name": "May"
        },
        {
         "data": [
          {
           "alignmentgroup": "True",
           "hovertemplate": "animation_frame=June<br>Unit sold=%{x}<br>Unit Name=%{y}<extra></extra>",
           "legendgroup": "",
           "marker": {
            "color": "#1F77B4",
            "pattern": {
             "shape": ""
            }
           },
           "name": "",
           "offsetgroup": "",
           "orientation": "h",
           "showlegend": false,
           "textposition": "auto",
           "type": "bar",
           "x": [
            16.683333333333334,
            3.0833333333333335,
            8.95,
            2.55,
            9.95
           ],
           "xaxis": "x",
           "y": [
            " SPACEBOY BABY GIFT SET",
            " SET 2 TEA TOWELS I LOVE LONDON ",
            " TOADSTOOL BEDSIDE LIGHT ",
            " 4 PURPLE FLOCK DINNER CANDLES",
            " OVAL WALL MIRROR DIAMANTE "
           ],
           "yaxis": "y"
          }
         ],
         "name": "June"
        },
        {
         "data": [
          {
           "alignmentgroup": "True",
           "hovertemplate": "animation_frame=July<br>Unit sold=%{x}<br>Unit Name=%{y}<extra></extra>",
           "legendgroup": "",
           "marker": {
            "color": "#1F77B4",
            "pattern": {
             "shape": ""
            }
           },
           "name": "",
           "offsetgroup": "",
           "orientation": "h",
           "showlegend": false,
           "textposition": "auto",
           "type": "bar",
           "x": [
            2.55,
            1.25,
            8.528571428571428,
            16.95,
            0.8418749999999999
           ],
           "xaxis": "x",
           "y": [
            " 4 PURPLE FLOCK DINNER CANDLES",
            " DOLLY GIRL BEAKER",
            " OVAL WALL MIRROR DIAMANTE ",
            " SPACEBOY BABY GIFT SET",
            "10 COLOUR SPACEBOY PEN"
           ],
           "yaxis": "y"
          }
         ],
         "name": "July"
        },
        {
         "data": [
          {
           "alignmentgroup": "True",
           "hovertemplate": "animation_frame=August<br>Unit sold=%{x}<br>Unit Name=%{y}<extra></extra>",
           "legendgroup": "",
           "marker": {
            "color": "#1F77B4",
            "pattern": {
             "shape": ""
            }
           },
           "name": "",
           "offsetgroup": "",
           "orientation": "h",
           "showlegend": false,
           "textposition": "auto",
           "type": "bar",
           "x": [
            2.55,
            1.25,
            1.238139534883721,
            9.95,
            1.25
           ],
           "xaxis": "x",
           "y": [
            " 4 PURPLE FLOCK DINNER CANDLES",
            " 50'S CHRISTMAS GIFT BAG LARGE",
            " DOLLY GIRL BEAKER",
            " OVAL WALL MIRROR DIAMANTE ",
            " RED SPOT GIFT BAG LARGE"
           ],
           "yaxis": "y"
          }
         ],
         "name": "August"
        },
        {
         "data": [
          {
           "alignmentgroup": "True",
           "hovertemplate": "animation_frame=September<br>Unit sold=%{x}<br>Unit Name=%{y}<extra></extra>",
           "legendgroup": "",
           "marker": {
            "color": "#1F77B4",
            "pattern": {
             "shape": ""
            }
           },
           "name": "",
           "offsetgroup": "",
           "orientation": "h",
           "showlegend": false,
           "textposition": "auto",
           "type": "bar",
           "x": [
            1.25,
            1.2437037037037035,
            4.135714285714286,
            2.55,
            1.25
           ],
           "xaxis": "x",
           "y": [
            " RED SPOT GIFT BAG LARGE",
            " DOLLY GIRL BEAKER",
            " I LOVE LONDON MINI BACKPACK",
            " 4 PURPLE FLOCK DINNER CANDLES",
            " 50'S CHRISTMAS GIFT BAG LARGE"
           ],
           "yaxis": "y"
          }
         ],
         "name": "September"
        },
        {
         "data": [
          {
           "alignmentgroup": "True",
           "hovertemplate": "animation_frame=October<br>Unit sold=%{x}<br>Unit Name=%{y}<extra></extra>",
           "legendgroup": "",
           "marker": {
            "color": "#1F77B4",
            "pattern": {
             "shape": ""
            }
           },
           "name": "",
           "offsetgroup": "",
           "orientation": "h",
           "showlegend": false,
           "textposition": "auto",
           "type": "bar",
           "x": [
            2.55,
            1.2458,
            1.2429166666666667,
            4.15,
            4.15
           ],
           "xaxis": "x",
           "y": [
            " 4 PURPLE FLOCK DINNER CANDLES",
            " 50'S CHRISTMAS GIFT BAG LARGE",
            " DOLLY GIRL BEAKER",
            " I LOVE LONDON MINI BACKPACK",
            " I LOVE LONDON MINI RUCKSACK"
           ],
           "yaxis": "y"
          }
         ],
         "name": "October"
        },
        {
         "data": [
          {
           "alignmentgroup": "True",
           "hovertemplate": "animation_frame=November<br>Unit sold=%{x}<br>Unit Name=%{y}<extra></extra>",
           "legendgroup": "",
           "marker": {
            "color": "#1F77B4",
            "pattern": {
             "shape": ""
            }
           },
           "name": "",
           "offsetgroup": "",
           "orientation": "h",
           "showlegend": false,
           "textposition": "auto",
           "type": "bar",
           "x": [
            14.677777777777777,
            4.128947368421053,
            1.25,
            2.55,
            1.25
           ],
           "xaxis": "x",
           "y": [
            " NINE DRAWER OFFICE TIDY",
            " I LOVE LONDON MINI BACKPACK",
            " 50'S CHRISTMAS GIFT BAG LARGE",
            " 4 PURPLE FLOCK DINNER CANDLES",
            " DOLLY GIRL BEAKER"
           ],
           "yaxis": "y"
          }
         ],
         "name": "November"
        },
        {
         "data": [
          {
           "alignmentgroup": "True",
           "hovertemplate": "animation_frame=December<br>Unit sold=%{x}<br>Unit Name=%{y}<extra></extra>",
           "legendgroup": "",
           "marker": {
            "color": "#1F77B4",
            "pattern": {
             "shape": ""
            }
           },
           "name": "",
           "offsetgroup": "",
           "orientation": "h",
           "showlegend": false,
           "textposition": "auto",
           "type": "bar",
           "x": [
            4.15,
            1.292857142857143,
            1.25,
            1.25,
            14.949999999999998
           ],
           "xaxis": "x",
           "y": [
            " I LOVE LONDON MINI BACKPACK",
            " 4 PURPLE FLOCK DINNER CANDLES",
            " 50'S CHRISTMAS GIFT BAG LARGE",
            " DOLLY GIRL BEAKER",
            " NINE DRAWER OFFICE TIDY"
           ],
           "yaxis": "y"
          }
         ],
         "name": "December"
        }
       ],
       "layout": {
        "barmode": "relative",
        "legend": {
         "tracegroupgap": 0
        },
        "margin": {
         "t": 60
        },
        "sliders": [
         {
          "active": 0,
          "currentvalue": {
           "prefix": "animation_frame="
          },
          "len": 0.9,
          "pad": {
           "b": 10,
           "t": 60
          },
          "steps": [
           {
            "args": [
             [
              "January"
             ],
             {
              "frame": {
               "duration": 0,
               "redraw": true
              },
              "fromcurrent": true,
              "mode": "immediate",
              "transition": {
               "duration": 0,
               "easing": "linear"
              }
             }
            ],
            "label": "January",
            "method": "animate"
           },
           {
            "args": [
             [
              "February"
             ],
             {
              "frame": {
               "duration": 0,
               "redraw": true
              },
              "fromcurrent": true,
              "mode": "immediate",
              "transition": {
               "duration": 0,
               "easing": "linear"
              }
             }
            ],
            "label": "February",
            "method": "animate"
           },
           {
            "args": [
             [
              "March"
             ],
             {
              "frame": {
               "duration": 0,
               "redraw": true
              },
              "fromcurrent": true,
              "mode": "immediate",
              "transition": {
               "duration": 0,
               "easing": "linear"
              }
             }
            ],
            "label": "March",
            "method": "animate"
           },
           {
            "args": [
             [
              "April"
             ],
             {
              "frame": {
               "duration": 0,
               "redraw": true
              },
              "fromcurrent": true,
              "mode": "immediate",
              "transition": {
               "duration": 0,
               "easing": "linear"
              }
             }
            ],
            "label": "April",
            "method": "animate"
           },
           {
            "args": [
             [
              "May"
             ],
             {
              "frame": {
               "duration": 0,
               "redraw": true
              },
              "fromcurrent": true,
              "mode": "immediate",
              "transition": {
               "duration": 0,
               "easing": "linear"
              }
             }
            ],
            "label": "May",
            "method": "animate"
           },
           {
            "args": [
             [
              "June"
             ],
             {
              "frame": {
               "duration": 0,
               "redraw": true
              },
              "fromcurrent": true,
              "mode": "immediate",
              "transition": {
               "duration": 0,
               "easing": "linear"
              }
             }
            ],
            "label": "June",
            "method": "animate"
           },
           {
            "args": [
             [
              "July"
             ],
             {
              "frame": {
               "duration": 0,
               "redraw": true
              },
              "fromcurrent": true,
              "mode": "immediate",
              "transition": {
               "duration": 0,
               "easing": "linear"
              }
             }
            ],
            "label": "July",
            "method": "animate"
           },
           {
            "args": [
             [
              "August"
             ],
             {
              "frame": {
               "duration": 0,
               "redraw": true
              },
              "fromcurrent": true,
              "mode": "immediate",
              "transition": {
               "duration": 0,
               "easing": "linear"
              }
             }
            ],
            "label": "August",
            "method": "animate"
           },
           {
            "args": [
             [
              "September"
             ],
             {
              "frame": {
               "duration": 0,
               "redraw": true
              },
              "fromcurrent": true,
              "mode": "immediate",
              "transition": {
               "duration": 0,
               "easing": "linear"
              }
             }
            ],
            "label": "September",
            "method": "animate"
           },
           {
            "args": [
             [
              "October"
             ],
             {
              "frame": {
               "duration": 0,
               "redraw": true
              },
              "fromcurrent": true,
              "mode": "immediate",
              "transition": {
               "duration": 0,
               "easing": "linear"
              }
             }
            ],
            "label": "October",
            "method": "animate"
           },
           {
            "args": [
             [
              "November"
             ],
             {
              "frame": {
               "duration": 0,
               "redraw": true
              },
              "fromcurrent": true,
              "mode": "immediate",
              "transition": {
               "duration": 0,
               "easing": "linear"
              }
             }
            ],
            "label": "November",
            "method": "animate"
           },
           {
            "args": [
             [
              "December"
             ],
             {
              "frame": {
               "duration": 0,
               "redraw": true
              },
              "fromcurrent": true,
              "mode": "immediate",
              "transition": {
               "duration": 0,
               "easing": "linear"
              }
             }
            ],
            "label": "December",
            "method": "animate"
           }
          ],
          "x": 0.1,
          "xanchor": "left",
          "y": 0,
          "yanchor": "top"
         }
        ],
        "template": {
         "data": {
          "pie": [
           {
            "automargin": true,
            "type": "pie"
           }
          ],
          "scatter": [
           {
            "line": {
             "width": 3
            },
            "marker": {
             "size": 9
            },
            "type": "scatter"
           }
          ],
          "scatter3d": [
           {
            "line": {
             "width": 3
            },
            "marker": {
             "size": 9
            },
            "type": "scatter3d"
           }
          ],
          "scattergeo": [
           {
            "line": {
             "width": 3
            },
            "marker": {
             "size": 9
            },
            "type": "scattergeo"
           }
          ],
          "scattergl": [
           {
            "line": {
             "width": 3
            },
            "marker": {
             "size": 9
            },
            "type": "scattergl"
           }
          ],
          "scatterpolar": [
           {
            "line": {
             "width": 3
            },
            "marker": {
             "size": 9
            },
            "type": "scatterpolar"
           }
          ],
          "scatterpolargl": [
           {
            "line": {
             "width": 3
            },
            "marker": {
             "size": 9
            },
            "type": "scatterpolargl"
           }
          ],
          "scatterternary": [
           {
            "line": {
             "width": 3
            },
            "marker": {
             "size": 9
            },
            "type": "scatterternary"
           }
          ],
          "table": [
           {
            "cells": {
             "height": 30
            },
            "header": {
             "height": 36
            },
            "type": "table"
           }
          ]
         },
         "layout": {
          "font": {
           "size": 18
          },
          "xaxis": {
           "title": {
            "standoff": 15
           }
          },
          "yaxis": {
           "title": {
            "standoff": 15
           }
          }
         }
        },
        "updatemenus": [
         {
          "buttons": [
           {
            "args": [
             null,
             {
              "frame": {
               "duration": 500,
               "redraw": true
              },
              "fromcurrent": true,
              "mode": "immediate",
              "transition": {
               "duration": 500,
               "easing": "linear"
              }
             }
            ],
            "label": "&#9654;",
            "method": "animate"
           },
           {
            "args": [
             [
              null
             ],
             {
              "frame": {
               "duration": 0,
               "redraw": true
              },
              "fromcurrent": true,
              "mode": "immediate",
              "transition": {
               "duration": 0,
               "easing": "linear"
              }
             }
            ],
            "label": "&#9724;",
            "method": "animate"
           }
          ],
          "direction": "left",
          "pad": {
           "r": 10,
           "t": 70
          },
          "showactive": false,
          "type": "buttons",
          "x": 0.1,
          "xanchor": "right",
          "y": 0,
          "yanchor": "top"
         }
        ],
        "xaxis": {
         "anchor": "y",
         "domain": [
          0,
          1
         ],
         "title": {
          "text": "Unit sold"
         },
         "type": "log"
        },
        "yaxis": {
         "anchor": "x",
         "domain": [
          0,
          1
         ],
         "title": {
          "text": "Unit Name"
         }
        }
       }
      },
      "text/html": [
       "<div>                            <div id=\"26942fa8-4123-43f9-9dae-3a59d19a2259\" class=\"plotly-graph-div\" style=\"height:525px; width:100%;\"></div>            <script type=\"text/javascript\">                require([\"plotly\"], function(Plotly) {                    window.PLOTLYENV=window.PLOTLYENV || {};                                    if (document.getElementById(\"26942fa8-4123-43f9-9dae-3a59d19a2259\")) {                    Plotly.newPlot(                        \"26942fa8-4123-43f9-9dae-3a59d19a2259\",                        [{\"alignmentgroup\":\"True\",\"hovertemplate\":\"animation_frame=January<br>Unit sold=%{x}<br>Unit Name=%{y}<extra></extra>\",\"legendgroup\":\"\",\"marker\":{\"color\":\"#1F77B4\",\"pattern\":{\"shape\":\"\"}},\"name\":\"\",\"offsetgroup\":\"\",\"orientation\":\"h\",\"showlegend\":false,\"textposition\":\"auto\",\"x\":[2.55,9.95,2.9166666666666665,0.85,0.65],\"xaxis\":\"x\",\"y\":[\" 4 PURPLE FLOCK DINNER CANDLES\",\" OVAL WALL MIRROR DIAMANTE \",\" SET 2 TEA TOWELS I LOVE LONDON \",\"10 COLOUR SPACEBOY PEN\",\"12 COLOURED PARTY BALLOONS\"],\"yaxis\":\"y\",\"type\":\"bar\"}],                        {\"template\":{\"data\":{\"pie\":[{\"automargin\":true,\"type\":\"pie\"}],\"scatter3d\":[{\"line\":{\"width\":3},\"marker\":{\"size\":9},\"type\":\"scatter3d\"}],\"scattergeo\":[{\"line\":{\"width\":3},\"marker\":{\"size\":9},\"type\":\"scattergeo\"}],\"scattergl\":[{\"line\":{\"width\":3},\"marker\":{\"size\":9},\"type\":\"scattergl\"}],\"scatterpolargl\":[{\"line\":{\"width\":3},\"marker\":{\"size\":9},\"type\":\"scatterpolargl\"}],\"scatterpolar\":[{\"line\":{\"width\":3},\"marker\":{\"size\":9},\"type\":\"scatterpolar\"}],\"scatter\":[{\"line\":{\"width\":3},\"marker\":{\"size\":9},\"type\":\"scatter\"}],\"scatterternary\":[{\"line\":{\"width\":3},\"marker\":{\"size\":9},\"type\":\"scatterternary\"}],\"table\":[{\"cells\":{\"height\":30},\"header\":{\"height\":36},\"type\":\"table\"}]},\"layout\":{\"font\":{\"size\":18},\"xaxis\":{\"title\":{\"standoff\":15}},\"yaxis\":{\"title\":{\"standoff\":15}}}},\"xaxis\":{\"anchor\":\"y\",\"domain\":[0.0,1.0],\"title\":{\"text\":\"Unit sold\"},\"type\":\"log\"},\"yaxis\":{\"anchor\":\"x\",\"domain\":[0.0,1.0],\"title\":{\"text\":\"Unit Name\"}},\"legend\":{\"tracegroupgap\":0},\"margin\":{\"t\":60},\"barmode\":\"relative\",\"updatemenus\":[{\"buttons\":[{\"args\":[null,{\"frame\":{\"duration\":500,\"redraw\":true},\"mode\":\"immediate\",\"fromcurrent\":true,\"transition\":{\"duration\":500,\"easing\":\"linear\"}}],\"label\":\"&#9654;\",\"method\":\"animate\"},{\"args\":[[null],{\"frame\":{\"duration\":0,\"redraw\":true},\"mode\":\"immediate\",\"fromcurrent\":true,\"transition\":{\"duration\":0,\"easing\":\"linear\"}}],\"label\":\"&#9724;\",\"method\":\"animate\"}],\"direction\":\"left\",\"pad\":{\"r\":10,\"t\":70},\"showactive\":false,\"type\":\"buttons\",\"x\":0.1,\"xanchor\":\"right\",\"y\":0,\"yanchor\":\"top\"}],\"sliders\":[{\"active\":0,\"currentvalue\":{\"prefix\":\"animation_frame=\"},\"len\":0.9,\"pad\":{\"b\":10,\"t\":60},\"steps\":[{\"args\":[[\"January\"],{\"frame\":{\"duration\":0,\"redraw\":true},\"mode\":\"immediate\",\"fromcurrent\":true,\"transition\":{\"duration\":0,\"easing\":\"linear\"}}],\"label\":\"January\",\"method\":\"animate\"},{\"args\":[[\"February\"],{\"frame\":{\"duration\":0,\"redraw\":true},\"mode\":\"immediate\",\"fromcurrent\":true,\"transition\":{\"duration\":0,\"easing\":\"linear\"}}],\"label\":\"February\",\"method\":\"animate\"},{\"args\":[[\"March\"],{\"frame\":{\"duration\":0,\"redraw\":true},\"mode\":\"immediate\",\"fromcurrent\":true,\"transition\":{\"duration\":0,\"easing\":\"linear\"}}],\"label\":\"March\",\"method\":\"animate\"},{\"args\":[[\"April\"],{\"frame\":{\"duration\":0,\"redraw\":true},\"mode\":\"immediate\",\"fromcurrent\":true,\"transition\":{\"duration\":0,\"easing\":\"linear\"}}],\"label\":\"April\",\"method\":\"animate\"},{\"args\":[[\"May\"],{\"frame\":{\"duration\":0,\"redraw\":true},\"mode\":\"immediate\",\"fromcurrent\":true,\"transition\":{\"duration\":0,\"easing\":\"linear\"}}],\"label\":\"May\",\"method\":\"animate\"},{\"args\":[[\"June\"],{\"frame\":{\"duration\":0,\"redraw\":true},\"mode\":\"immediate\",\"fromcurrent\":true,\"transition\":{\"duration\":0,\"easing\":\"linear\"}}],\"label\":\"June\",\"method\":\"animate\"},{\"args\":[[\"July\"],{\"frame\":{\"duration\":0,\"redraw\":true},\"mode\":\"immediate\",\"fromcurrent\":true,\"transition\":{\"duration\":0,\"easing\":\"linear\"}}],\"label\":\"July\",\"method\":\"animate\"},{\"args\":[[\"August\"],{\"frame\":{\"duration\":0,\"redraw\":true},\"mode\":\"immediate\",\"fromcurrent\":true,\"transition\":{\"duration\":0,\"easing\":\"linear\"}}],\"label\":\"August\",\"method\":\"animate\"},{\"args\":[[\"September\"],{\"frame\":{\"duration\":0,\"redraw\":true},\"mode\":\"immediate\",\"fromcurrent\":true,\"transition\":{\"duration\":0,\"easing\":\"linear\"}}],\"label\":\"September\",\"method\":\"animate\"},{\"args\":[[\"October\"],{\"frame\":{\"duration\":0,\"redraw\":true},\"mode\":\"immediate\",\"fromcurrent\":true,\"transition\":{\"duration\":0,\"easing\":\"linear\"}}],\"label\":\"October\",\"method\":\"animate\"},{\"args\":[[\"November\"],{\"frame\":{\"duration\":0,\"redraw\":true},\"mode\":\"immediate\",\"fromcurrent\":true,\"transition\":{\"duration\":0,\"easing\":\"linear\"}}],\"label\":\"November\",\"method\":\"animate\"},{\"args\":[[\"December\"],{\"frame\":{\"duration\":0,\"redraw\":true},\"mode\":\"immediate\",\"fromcurrent\":true,\"transition\":{\"duration\":0,\"easing\":\"linear\"}}],\"label\":\"December\",\"method\":\"animate\"}],\"x\":0.1,\"xanchor\":\"left\",\"y\":0,\"yanchor\":\"top\"}]},                        {\"responsive\": true}                    ).then(function(){\n",
       "                            Plotly.addFrames('26942fa8-4123-43f9-9dae-3a59d19a2259', [{\"data\":[{\"alignmentgroup\":\"True\",\"hovertemplate\":\"animation_frame=January<br>Unit sold=%{x}<br>Unit Name=%{y}<extra></extra>\",\"legendgroup\":\"\",\"marker\":{\"color\":\"#1F77B4\",\"pattern\":{\"shape\":\"\"}},\"name\":\"\",\"offsetgroup\":\"\",\"orientation\":\"h\",\"showlegend\":false,\"textposition\":\"auto\",\"x\":[2.55,9.95,2.9166666666666665,0.85,0.65],\"xaxis\":\"x\",\"y\":[\" 4 PURPLE FLOCK DINNER CANDLES\",\" OVAL WALL MIRROR DIAMANTE \",\" SET 2 TEA TOWELS I LOVE LONDON \",\"10 COLOUR SPACEBOY PEN\",\"12 COLOURED PARTY BALLOONS\"],\"yaxis\":\"y\",\"type\":\"bar\"}],\"name\":\"January\"},{\"data\":[{\"alignmentgroup\":\"True\",\"hovertemplate\":\"animation_frame=February<br>Unit sold=%{x}<br>Unit Name=%{y}<extra></extra>\",\"legendgroup\":\"\",\"marker\":{\"color\":\"#1F77B4\",\"pattern\":{\"shape\":\"\"}},\"name\":\"\",\"offsetgroup\":\"\",\"orientation\":\"h\",\"showlegend\":false,\"textposition\":\"auto\",\"x\":[2.55,9.95,2.935185185185185,0.85,0.65],\"xaxis\":\"x\",\"y\":[\" 4 PURPLE FLOCK DINNER CANDLES\",\" OVAL WALL MIRROR DIAMANTE \",\" SET 2 TEA TOWELS I LOVE LONDON \",\"10 COLOUR SPACEBOY PEN\",\"12 COLOURED PARTY BALLOONS\"],\"yaxis\":\"y\",\"type\":\"bar\"}],\"name\":\"February\"},{\"data\":[{\"alignmentgroup\":\"True\",\"hovertemplate\":\"animation_frame=March<br>Unit sold=%{x}<br>Unit Name=%{y}<extra></extra>\",\"legendgroup\":\"\",\"marker\":{\"color\":\"#1F77B4\",\"pattern\":{\"shape\":\"\"}},\"name\":\"\",\"offsetgroup\":\"\",\"orientation\":\"h\",\"showlegend\":false,\"textposition\":\"auto\",\"x\":[0.65,16.222727272727273,0.8499999999999999,9.95,2.935277777777778],\"xaxis\":\"x\",\"y\":[\"12 COLOURED PARTY BALLOONS\",\" SPACEBOY BABY GIFT SET\",\"10 COLOUR SPACEBOY PEN\",\" OVAL WALL MIRROR DIAMANTE \",\" SET 2 TEA TOWELS I LOVE LONDON \"],\"yaxis\":\"y\",\"type\":\"bar\"}],\"name\":\"March\"},{\"data\":[{\"alignmentgroup\":\"True\",\"hovertemplate\":\"animation_frame=April<br>Unit sold=%{x}<br>Unit Name=%{y}<extra></extra>\",\"legendgroup\":\"\",\"marker\":{\"color\":\"#1F77B4\",\"pattern\":{\"shape\":\"\"}},\"name\":\"\",\"offsetgroup\":\"\",\"orientation\":\"h\",\"showlegend\":false,\"textposition\":\"auto\",\"x\":[2.55,9.95,3.225757575757576,16.505555555555553,0.8499999999999999],\"xaxis\":\"x\",\"y\":[\" 4 PURPLE FLOCK DINNER CANDLES\",\" OVAL WALL MIRROR DIAMANTE \",\" SET 2 TEA TOWELS I LOVE LONDON \",\" SPACEBOY BABY GIFT SET\",\"10 COLOUR SPACEBOY PEN\"],\"yaxis\":\"y\",\"type\":\"bar\"}],\"name\":\"April\"},{\"data\":[{\"alignmentgroup\":\"True\",\"hovertemplate\":\"animation_frame=May<br>Unit sold=%{x}<br>Unit Name=%{y}<extra></extra>\",\"legendgroup\":\"\",\"marker\":{\"color\":\"#1F77B4\",\"pattern\":{\"shape\":\"\"}},\"name\":\"\",\"offsetgroup\":\"\",\"orientation\":\"h\",\"showlegend\":false,\"textposition\":\"auto\",\"x\":[2.55,9.283333333333333,3.21875,16.36176470588235,0.8431578947368421],\"xaxis\":\"x\",\"y\":[\" 4 PURPLE FLOCK DINNER CANDLES\",\" OVAL WALL MIRROR DIAMANTE \",\" SET 2 TEA TOWELS I LOVE LONDON \",\" SPACEBOY BABY GIFT SET\",\"10 COLOUR SPACEBOY PEN\"],\"yaxis\":\"y\",\"type\":\"bar\"}],\"name\":\"May\"},{\"data\":[{\"alignmentgroup\":\"True\",\"hovertemplate\":\"animation_frame=June<br>Unit sold=%{x}<br>Unit Name=%{y}<extra></extra>\",\"legendgroup\":\"\",\"marker\":{\"color\":\"#1F77B4\",\"pattern\":{\"shape\":\"\"}},\"name\":\"\",\"offsetgroup\":\"\",\"orientation\":\"h\",\"showlegend\":false,\"textposition\":\"auto\",\"x\":[16.683333333333334,3.0833333333333335,8.95,2.55,9.95],\"xaxis\":\"x\",\"y\":[\" SPACEBOY BABY GIFT SET\",\" SET 2 TEA TOWELS I LOVE LONDON \",\" TOADSTOOL BEDSIDE LIGHT \",\" 4 PURPLE FLOCK DINNER CANDLES\",\" OVAL WALL MIRROR DIAMANTE \"],\"yaxis\":\"y\",\"type\":\"bar\"}],\"name\":\"June\"},{\"data\":[{\"alignmentgroup\":\"True\",\"hovertemplate\":\"animation_frame=July<br>Unit sold=%{x}<br>Unit Name=%{y}<extra></extra>\",\"legendgroup\":\"\",\"marker\":{\"color\":\"#1F77B4\",\"pattern\":{\"shape\":\"\"}},\"name\":\"\",\"offsetgroup\":\"\",\"orientation\":\"h\",\"showlegend\":false,\"textposition\":\"auto\",\"x\":[2.55,1.25,8.528571428571428,16.95,0.8418749999999999],\"xaxis\":\"x\",\"y\":[\" 4 PURPLE FLOCK DINNER CANDLES\",\" DOLLY GIRL BEAKER\",\" OVAL WALL MIRROR DIAMANTE \",\" SPACEBOY BABY GIFT SET\",\"10 COLOUR SPACEBOY PEN\"],\"yaxis\":\"y\",\"type\":\"bar\"}],\"name\":\"July\"},{\"data\":[{\"alignmentgroup\":\"True\",\"hovertemplate\":\"animation_frame=August<br>Unit sold=%{x}<br>Unit Name=%{y}<extra></extra>\",\"legendgroup\":\"\",\"marker\":{\"color\":\"#1F77B4\",\"pattern\":{\"shape\":\"\"}},\"name\":\"\",\"offsetgroup\":\"\",\"orientation\":\"h\",\"showlegend\":false,\"textposition\":\"auto\",\"x\":[2.55,1.25,1.238139534883721,9.95,1.25],\"xaxis\":\"x\",\"y\":[\" 4 PURPLE FLOCK DINNER CANDLES\",\" 50'S CHRISTMAS GIFT BAG LARGE\",\" DOLLY GIRL BEAKER\",\" OVAL WALL MIRROR DIAMANTE \",\" RED SPOT GIFT BAG LARGE\"],\"yaxis\":\"y\",\"type\":\"bar\"}],\"name\":\"August\"},{\"data\":[{\"alignmentgroup\":\"True\",\"hovertemplate\":\"animation_frame=September<br>Unit sold=%{x}<br>Unit Name=%{y}<extra></extra>\",\"legendgroup\":\"\",\"marker\":{\"color\":\"#1F77B4\",\"pattern\":{\"shape\":\"\"}},\"name\":\"\",\"offsetgroup\":\"\",\"orientation\":\"h\",\"showlegend\":false,\"textposition\":\"auto\",\"x\":[1.25,1.2437037037037035,4.135714285714286,2.55,1.25],\"xaxis\":\"x\",\"y\":[\" RED SPOT GIFT BAG LARGE\",\" DOLLY GIRL BEAKER\",\" I LOVE LONDON MINI BACKPACK\",\" 4 PURPLE FLOCK DINNER CANDLES\",\" 50'S CHRISTMAS GIFT BAG LARGE\"],\"yaxis\":\"y\",\"type\":\"bar\"}],\"name\":\"September\"},{\"data\":[{\"alignmentgroup\":\"True\",\"hovertemplate\":\"animation_frame=October<br>Unit sold=%{x}<br>Unit Name=%{y}<extra></extra>\",\"legendgroup\":\"\",\"marker\":{\"color\":\"#1F77B4\",\"pattern\":{\"shape\":\"\"}},\"name\":\"\",\"offsetgroup\":\"\",\"orientation\":\"h\",\"showlegend\":false,\"textposition\":\"auto\",\"x\":[2.55,1.2458,1.2429166666666667,4.15,4.15],\"xaxis\":\"x\",\"y\":[\" 4 PURPLE FLOCK DINNER CANDLES\",\" 50'S CHRISTMAS GIFT BAG LARGE\",\" DOLLY GIRL BEAKER\",\" I LOVE LONDON MINI BACKPACK\",\" I LOVE LONDON MINI RUCKSACK\"],\"yaxis\":\"y\",\"type\":\"bar\"}],\"name\":\"October\"},{\"data\":[{\"alignmentgroup\":\"True\",\"hovertemplate\":\"animation_frame=November<br>Unit sold=%{x}<br>Unit Name=%{y}<extra></extra>\",\"legendgroup\":\"\",\"marker\":{\"color\":\"#1F77B4\",\"pattern\":{\"shape\":\"\"}},\"name\":\"\",\"offsetgroup\":\"\",\"orientation\":\"h\",\"showlegend\":false,\"textposition\":\"auto\",\"x\":[14.677777777777777,4.128947368421053,1.25,2.55,1.25],\"xaxis\":\"x\",\"y\":[\" NINE DRAWER OFFICE TIDY\",\" I LOVE LONDON MINI BACKPACK\",\" 50'S CHRISTMAS GIFT BAG LARGE\",\" 4 PURPLE FLOCK DINNER CANDLES\",\" DOLLY GIRL BEAKER\"],\"yaxis\":\"y\",\"type\":\"bar\"}],\"name\":\"November\"},{\"data\":[{\"alignmentgroup\":\"True\",\"hovertemplate\":\"animation_frame=December<br>Unit sold=%{x}<br>Unit Name=%{y}<extra></extra>\",\"legendgroup\":\"\",\"marker\":{\"color\":\"#1F77B4\",\"pattern\":{\"shape\":\"\"}},\"name\":\"\",\"offsetgroup\":\"\",\"orientation\":\"h\",\"showlegend\":false,\"textposition\":\"auto\",\"x\":[4.15,1.292857142857143,1.25,1.25,14.949999999999998],\"xaxis\":\"x\",\"y\":[\" I LOVE LONDON MINI BACKPACK\",\" 4 PURPLE FLOCK DINNER CANDLES\",\" 50'S CHRISTMAS GIFT BAG LARGE\",\" DOLLY GIRL BEAKER\",\" NINE DRAWER OFFICE TIDY\"],\"yaxis\":\"y\",\"type\":\"bar\"}],\"name\":\"December\"}]);\n",
       "                        }).then(function(){\n",
       "                            \n",
       "var gd = document.getElementById('26942fa8-4123-43f9-9dae-3a59d19a2259');\n",
       "var x = new MutationObserver(function (mutations, observer) {{\n",
       "        var display = window.getComputedStyle(gd).display;\n",
       "        if (!display || display === 'none') {{\n",
       "            console.log([gd, 'removed!']);\n",
       "            Plotly.purge(gd);\n",
       "            observer.disconnect();\n",
       "        }}\n",
       "}});\n",
       "\n",
       "// Listen for the removal of the full notebook cells\n",
       "var notebookContainer = gd.closest('#notebook-container');\n",
       "if (notebookContainer) {{\n",
       "    x.observe(notebookContainer, {childList: true});\n",
       "}}\n",
       "\n",
       "// Listen for the clearing of the current output cell\n",
       "var outputEl = gd.closest('.output');\n",
       "if (outputEl) {{\n",
       "    x.observe(outputEl, {childList: true});\n",
       "}}\n",
       "\n",
       "                        })                };                });            </script>        </div>"
      ]
     },
     "metadata": {},
     "output_type": "display_data"
    }
   ],
   "source": [
    "fig"
   ]
  },
  {
   "cell_type": "markdown",
   "id": "bbff2a4b",
   "metadata": {},
   "source": [
    "# Monthly selling products in UK"
   ]
  },
  {
   "cell_type": "code",
   "execution_count": 95,
   "id": "27cbf23f",
   "metadata": {},
   "outputs": [
    {
     "name": "stderr",
     "output_type": "stream",
     "text": [
      "C:\\Users\\Dhrupad\\AppData\\Local\\Programs\\Python\\Python39\\lib\\site-packages\\pandas\\util\\_decorators.py:311: SettingWithCopyWarning:\n",
      "\n",
      "\n",
      "A value is trying to be set on a copy of a slice from a DataFrame\n",
      "\n",
      "See the caveats in the documentation: https://pandas.pydata.org/pandas-docs/stable/user_guide/indexing.html#returning-a-view-versus-a-copy\n",
      "\n",
      "C:\\Users\\Dhrupad\\AppData\\Local\\Temp\\ipykernel_34088\\804564154.py:7: SettingWithCopyWarning:\n",
      "\n",
      "\n",
      "A value is trying to be set on a copy of a slice from a DataFrame.\n",
      "Try using .loc[row_indexer,col_indexer] = value instead\n",
      "\n",
      "See the caveats in the documentation: https://pandas.pydata.org/pandas-docs/stable/user_guide/indexing.html#returning-a-view-versus-a-copy\n",
      "\n"
     ]
    }
   ],
   "source": [
    "piv = pd.pivot_table(uk_df,index=['InvMo','Description'], values='UnitPrice')\n",
    "product_df = piv.reset_index()\n",
    "\n",
    "n = product_df.groupby('InvMo').head(5)\n",
    "n.reset_index()\n",
    "n.sort_values('InvMo',inplace=True,ascending=True,axis=0)# Sorting by month of the year\n",
    "n['InvMo']=n['InvMo'].map({1:'January',2:'February',3:'March',4:'April',5:'May',6:'June',7:'July',8:'August',\n",
    "                           9:'September',10:'October',11:'November',12:'December'})\n",
    "\n",
    "fig = px.bar(y = n['Description'],x=n['UnitPrice'],animation_frame=n['InvMo'],template='presentation',log_x=True, \n",
    "             labels={'x':'Unit sold','y':'Unit Name'})"
   ]
  },
  {
   "cell_type": "code",
   "execution_count": 96,
   "id": "95196f5f",
   "metadata": {},
   "outputs": [
    {
     "data": {
      "application/vnd.plotly.v1+json": {
       "config": {
        "plotlyServerURL": "https://plot.ly"
       },
       "data": [
        {
         "alignmentgroup": "True",
         "hovertemplate": "animation_frame=January<br>Unit sold=%{x}<br>Unit Name=%{y}<extra></extra>",
         "legendgroup": "",
         "marker": {
          "color": "#1F77B4",
          "pattern": {
           "shape": ""
          }
         },
         "name": "",
         "offsetgroup": "",
         "orientation": "h",
         "showlegend": false,
         "textposition": "auto",
         "type": "bar",
         "x": [
          2.55,
          9.95,
          2.911904761904762,
          0.85,
          0.65
         ],
         "xaxis": "x",
         "y": [
          " 4 PURPLE FLOCK DINNER CANDLES",
          " OVAL WALL MIRROR DIAMANTE ",
          " SET 2 TEA TOWELS I LOVE LONDON ",
          "10 COLOUR SPACEBOY PEN",
          "12 COLOURED PARTY BALLOONS"
         ],
         "yaxis": "y"
        }
       ],
       "frames": [
        {
         "data": [
          {
           "alignmentgroup": "True",
           "hovertemplate": "animation_frame=January<br>Unit sold=%{x}<br>Unit Name=%{y}<extra></extra>",
           "legendgroup": "",
           "marker": {
            "color": "#1F77B4",
            "pattern": {
             "shape": ""
            }
           },
           "name": "",
           "offsetgroup": "",
           "orientation": "h",
           "showlegend": false,
           "textposition": "auto",
           "type": "bar",
           "x": [
            2.55,
            9.95,
            2.911904761904762,
            0.85,
            0.65
           ],
           "xaxis": "x",
           "y": [
            " 4 PURPLE FLOCK DINNER CANDLES",
            " OVAL WALL MIRROR DIAMANTE ",
            " SET 2 TEA TOWELS I LOVE LONDON ",
            "10 COLOUR SPACEBOY PEN",
            "12 COLOURED PARTY BALLOONS"
           ],
           "yaxis": "y"
          }
         ],
         "name": "January"
        },
        {
         "data": [
          {
           "alignmentgroup": "True",
           "hovertemplate": "animation_frame=February<br>Unit sold=%{x}<br>Unit Name=%{y}<extra></extra>",
           "legendgroup": "",
           "marker": {
            "color": "#1F77B4",
            "pattern": {
             "shape": ""
            }
           },
           "name": "",
           "offsetgroup": "",
           "orientation": "h",
           "showlegend": false,
           "textposition": "auto",
           "type": "bar",
           "x": [
            2.55,
            9.95,
            2.9333333333333336,
            0.85,
            0.65
           ],
           "xaxis": "x",
           "y": [
            " 4 PURPLE FLOCK DINNER CANDLES",
            " OVAL WALL MIRROR DIAMANTE ",
            " SET 2 TEA TOWELS I LOVE LONDON ",
            "10 COLOUR SPACEBOY PEN",
            "12 COLOURED PARTY BALLOONS"
           ],
           "yaxis": "y"
          }
         ],
         "name": "February"
        },
        {
         "data": [
          {
           "alignmentgroup": "True",
           "hovertemplate": "animation_frame=March<br>Unit sold=%{x}<br>Unit Name=%{y}<extra></extra>",
           "legendgroup": "",
           "marker": {
            "color": "#1F77B4",
            "pattern": {
             "shape": ""
            }
           },
           "name": "",
           "offsetgroup": "",
           "orientation": "h",
           "showlegend": false,
           "textposition": "auto",
           "type": "bar",
           "x": [
            0.65,
            16.75,
            0.85,
            9.95,
            2.925588235294118
           ],
           "xaxis": "x",
           "y": [
            "12 COLOURED PARTY BALLOONS",
            " SPACEBOY BABY GIFT SET",
            "10 COLOUR SPACEBOY PEN",
            " OVAL WALL MIRROR DIAMANTE ",
            " SET 2 TEA TOWELS I LOVE LONDON "
           ],
           "yaxis": "y"
          }
         ],
         "name": "March"
        },
        {
         "data": [
          {
           "alignmentgroup": "True",
           "hovertemplate": "animation_frame=April<br>Unit sold=%{x}<br>Unit Name=%{y}<extra></extra>",
           "legendgroup": "",
           "marker": {
            "color": "#1F77B4",
            "pattern": {
             "shape": ""
            }
           },
           "name": "",
           "offsetgroup": "",
           "orientation": "h",
           "showlegend": false,
           "textposition": "auto",
           "type": "bar",
           "x": [
            2.55,
            9.95,
            3.2241935483870967,
            16.416666666666668,
            0.85
           ],
           "xaxis": "x",
           "y": [
            " 4 PURPLE FLOCK DINNER CANDLES",
            " OVAL WALL MIRROR DIAMANTE ",
            " SET 2 TEA TOWELS I LOVE LONDON ",
            " SPACEBOY BABY GIFT SET",
            "10 COLOUR SPACEBOY PEN"
           ],
           "yaxis": "y"
          }
         ],
         "name": "April"
        },
        {
         "data": [
          {
           "alignmentgroup": "True",
           "hovertemplate": "animation_frame=May<br>Unit sold=%{x}<br>Unit Name=%{y}<extra></extra>",
           "legendgroup": "",
           "marker": {
            "color": "#1F77B4",
            "pattern": {
             "shape": ""
            }
           },
           "name": "",
           "offsetgroup": "",
           "orientation": "h",
           "showlegend": false,
           "textposition": "auto",
           "type": "bar",
           "x": [
            2.55,
            9.283333333333333,
            3.225862068965517,
            16.616666666666664,
            0.8499999999999999
           ],
           "xaxis": "x",
           "y": [
            " 4 PURPLE FLOCK DINNER CANDLES",
            " OVAL WALL MIRROR DIAMANTE ",
            " SET 2 TEA TOWELS I LOVE LONDON ",
            " SPACEBOY BABY GIFT SET",
            "10 COLOUR SPACEBOY PEN"
           ],
           "yaxis": "y"
          }
         ],
         "name": "May"
        },
        {
         "data": [
          {
           "alignmentgroup": "True",
           "hovertemplate": "animation_frame=June<br>Unit sold=%{x}<br>Unit Name=%{y}<extra></extra>",
           "legendgroup": "",
           "marker": {
            "color": "#1F77B4",
            "pattern": {
             "shape": ""
            }
           },
           "name": "",
           "offsetgroup": "",
           "orientation": "h",
           "showlegend": false,
           "textposition": "auto",
           "type": "bar",
           "x": [
            16.95,
            3,
            8.95,
            2.55,
            9.95
           ],
           "xaxis": "x",
           "y": [
            " SPACEBOY BABY GIFT SET",
            " SET 2 TEA TOWELS I LOVE LONDON ",
            " TOADSTOOL BEDSIDE LIGHT ",
            " 4 PURPLE FLOCK DINNER CANDLES",
            " OVAL WALL MIRROR DIAMANTE "
           ],
           "yaxis": "y"
          }
         ],
         "name": "June"
        },
        {
         "data": [
          {
           "alignmentgroup": "True",
           "hovertemplate": "animation_frame=July<br>Unit sold=%{x}<br>Unit Name=%{y}<extra></extra>",
           "legendgroup": "",
           "marker": {
            "color": "#1F77B4",
            "pattern": {
             "shape": ""
            }
           },
           "name": "",
           "offsetgroup": "",
           "orientation": "h",
           "showlegend": false,
           "textposition": "auto",
           "type": "bar",
           "x": [
            2.55,
            1.25,
            8.528571428571428,
            16.95,
            0.8391666666666667
           ],
           "xaxis": "x",
           "y": [
            " 4 PURPLE FLOCK DINNER CANDLES",
            " DOLLY GIRL BEAKER",
            " OVAL WALL MIRROR DIAMANTE ",
            " SPACEBOY BABY GIFT SET",
            "10 COLOUR SPACEBOY PEN"
           ],
           "yaxis": "y"
          }
         ],
         "name": "July"
        },
        {
         "data": [
          {
           "alignmentgroup": "True",
           "hovertemplate": "animation_frame=August<br>Unit sold=%{x}<br>Unit Name=%{y}<extra></extra>",
           "legendgroup": "",
           "marker": {
            "color": "#1F77B4",
            "pattern": {
             "shape": ""
            }
           },
           "name": "",
           "offsetgroup": "",
           "orientation": "h",
           "showlegend": false,
           "textposition": "auto",
           "type": "bar",
           "x": [
            2.55,
            1.25,
            1.25,
            9.95,
            1.25
           ],
           "xaxis": "x",
           "y": [
            " 4 PURPLE FLOCK DINNER CANDLES",
            " 50'S CHRISTMAS GIFT BAG LARGE",
            " DOLLY GIRL BEAKER",
            " OVAL WALL MIRROR DIAMANTE ",
            " RED SPOT GIFT BAG LARGE"
           ],
           "yaxis": "y"
          }
         ],
         "name": "August"
        },
        {
         "data": [
          {
           "alignmentgroup": "True",
           "hovertemplate": "animation_frame=September<br>Unit sold=%{x}<br>Unit Name=%{y}<extra></extra>",
           "legendgroup": "",
           "marker": {
            "color": "#1F77B4",
            "pattern": {
             "shape": ""
            }
           },
           "name": "",
           "offsetgroup": "",
           "orientation": "h",
           "showlegend": false,
           "textposition": "auto",
           "type": "bar",
           "x": [
            1.25,
            1.25,
            4.15,
            2.55,
            1.25
           ],
           "xaxis": "x",
           "y": [
            " RED SPOT GIFT BAG LARGE",
            " DOLLY GIRL BEAKER",
            " I LOVE LONDON MINI BACKPACK",
            " 4 PURPLE FLOCK DINNER CANDLES",
            " 50'S CHRISTMAS GIFT BAG LARGE"
           ],
           "yaxis": "y"
          }
         ],
         "name": "September"
        },
        {
         "data": [
          {
           "alignmentgroup": "True",
           "hovertemplate": "animation_frame=October<br>Unit sold=%{x}<br>Unit Name=%{y}<extra></extra>",
           "legendgroup": "",
           "marker": {
            "color": "#1F77B4",
            "pattern": {
             "shape": ""
            }
           },
           "name": "",
           "offsetgroup": "",
           "orientation": "h",
           "showlegend": false,
           "textposition": "auto",
           "type": "bar",
           "x": [
            2.55,
            1.2451162790697674,
            1.25,
            4.15,
            14.775
           ],
           "xaxis": "x",
           "y": [
            " 4 PURPLE FLOCK DINNER CANDLES",
            " 50'S CHRISTMAS GIFT BAG LARGE",
            " DOLLY GIRL BEAKER",
            " I LOVE LONDON MINI BACKPACK",
            " NINE DRAWER OFFICE TIDY"
           ],
           "yaxis": "y"
          }
         ],
         "name": "October"
        },
        {
         "data": [
          {
           "alignmentgroup": "True",
           "hovertemplate": "animation_frame=November<br>Unit sold=%{x}<br>Unit Name=%{y}<extra></extra>",
           "legendgroup": "",
           "marker": {
            "color": "#1F77B4",
            "pattern": {
             "shape": ""
            }
           },
           "name": "",
           "offsetgroup": "",
           "orientation": "h",
           "showlegend": false,
           "textposition": "auto",
           "type": "bar",
           "x": [
            14.541666666666666,
            4.15,
            1.25,
            2.55,
            1.25
           ],
           "xaxis": "x",
           "y": [
            " NINE DRAWER OFFICE TIDY",
            " I LOVE LONDON MINI BACKPACK",
            " 50'S CHRISTMAS GIFT BAG LARGE",
            " 4 PURPLE FLOCK DINNER CANDLES",
            " DOLLY GIRL BEAKER"
           ],
           "yaxis": "y"
          }
         ],
         "name": "November"
        },
        {
         "data": [
          {
           "alignmentgroup": "True",
           "hovertemplate": "animation_frame=December<br>Unit sold=%{x}<br>Unit Name=%{y}<extra></extra>",
           "legendgroup": "",
           "marker": {
            "color": "#1F77B4",
            "pattern": {
             "shape": ""
            }
           },
           "name": "",
           "offsetgroup": "",
           "orientation": "h",
           "showlegend": false,
           "textposition": "auto",
           "type": "bar",
           "x": [
            4.15,
            1.292857142857143,
            1.25,
            1.25,
            14.949999999999998
           ],
           "xaxis": "x",
           "y": [
            " I LOVE LONDON MINI BACKPACK",
            " 4 PURPLE FLOCK DINNER CANDLES",
            " 50'S CHRISTMAS GIFT BAG LARGE",
            " DOLLY GIRL BEAKER",
            " NINE DRAWER OFFICE TIDY"
           ],
           "yaxis": "y"
          }
         ],
         "name": "December"
        }
       ],
       "layout": {
        "barmode": "relative",
        "legend": {
         "tracegroupgap": 0
        },
        "margin": {
         "t": 60
        },
        "sliders": [
         {
          "active": 0,
          "currentvalue": {
           "prefix": "animation_frame="
          },
          "len": 0.9,
          "pad": {
           "b": 10,
           "t": 60
          },
          "steps": [
           {
            "args": [
             [
              "January"
             ],
             {
              "frame": {
               "duration": 0,
               "redraw": true
              },
              "fromcurrent": true,
              "mode": "immediate",
              "transition": {
               "duration": 0,
               "easing": "linear"
              }
             }
            ],
            "label": "January",
            "method": "animate"
           },
           {
            "args": [
             [
              "February"
             ],
             {
              "frame": {
               "duration": 0,
               "redraw": true
              },
              "fromcurrent": true,
              "mode": "immediate",
              "transition": {
               "duration": 0,
               "easing": "linear"
              }
             }
            ],
            "label": "February",
            "method": "animate"
           },
           {
            "args": [
             [
              "March"
             ],
             {
              "frame": {
               "duration": 0,
               "redraw": true
              },
              "fromcurrent": true,
              "mode": "immediate",
              "transition": {
               "duration": 0,
               "easing": "linear"
              }
             }
            ],
            "label": "March",
            "method": "animate"
           },
           {
            "args": [
             [
              "April"
             ],
             {
              "frame": {
               "duration": 0,
               "redraw": true
              },
              "fromcurrent": true,
              "mode": "immediate",
              "transition": {
               "duration": 0,
               "easing": "linear"
              }
             }
            ],
            "label": "April",
            "method": "animate"
           },
           {
            "args": [
             [
              "May"
             ],
             {
              "frame": {
               "duration": 0,
               "redraw": true
              },
              "fromcurrent": true,
              "mode": "immediate",
              "transition": {
               "duration": 0,
               "easing": "linear"
              }
             }
            ],
            "label": "May",
            "method": "animate"
           },
           {
            "args": [
             [
              "June"
             ],
             {
              "frame": {
               "duration": 0,
               "redraw": true
              },
              "fromcurrent": true,
              "mode": "immediate",
              "transition": {
               "duration": 0,
               "easing": "linear"
              }
             }
            ],
            "label": "June",
            "method": "animate"
           },
           {
            "args": [
             [
              "July"
             ],
             {
              "frame": {
               "duration": 0,
               "redraw": true
              },
              "fromcurrent": true,
              "mode": "immediate",
              "transition": {
               "duration": 0,
               "easing": "linear"
              }
             }
            ],
            "label": "July",
            "method": "animate"
           },
           {
            "args": [
             [
              "August"
             ],
             {
              "frame": {
               "duration": 0,
               "redraw": true
              },
              "fromcurrent": true,
              "mode": "immediate",
              "transition": {
               "duration": 0,
               "easing": "linear"
              }
             }
            ],
            "label": "August",
            "method": "animate"
           },
           {
            "args": [
             [
              "September"
             ],
             {
              "frame": {
               "duration": 0,
               "redraw": true
              },
              "fromcurrent": true,
              "mode": "immediate",
              "transition": {
               "duration": 0,
               "easing": "linear"
              }
             }
            ],
            "label": "September",
            "method": "animate"
           },
           {
            "args": [
             [
              "October"
             ],
             {
              "frame": {
               "duration": 0,
               "redraw": true
              },
              "fromcurrent": true,
              "mode": "immediate",
              "transition": {
               "duration": 0,
               "easing": "linear"
              }
             }
            ],
            "label": "October",
            "method": "animate"
           },
           {
            "args": [
             [
              "November"
             ],
             {
              "frame": {
               "duration": 0,
               "redraw": true
              },
              "fromcurrent": true,
              "mode": "immediate",
              "transition": {
               "duration": 0,
               "easing": "linear"
              }
             }
            ],
            "label": "November",
            "method": "animate"
           },
           {
            "args": [
             [
              "December"
             ],
             {
              "frame": {
               "duration": 0,
               "redraw": true
              },
              "fromcurrent": true,
              "mode": "immediate",
              "transition": {
               "duration": 0,
               "easing": "linear"
              }
             }
            ],
            "label": "December",
            "method": "animate"
           }
          ],
          "x": 0.1,
          "xanchor": "left",
          "y": 0,
          "yanchor": "top"
         }
        ],
        "template": {
         "data": {
          "pie": [
           {
            "automargin": true,
            "type": "pie"
           }
          ],
          "scatter": [
           {
            "line": {
             "width": 3
            },
            "marker": {
             "size": 9
            },
            "type": "scatter"
           }
          ],
          "scatter3d": [
           {
            "line": {
             "width": 3
            },
            "marker": {
             "size": 9
            },
            "type": "scatter3d"
           }
          ],
          "scattergeo": [
           {
            "line": {
             "width": 3
            },
            "marker": {
             "size": 9
            },
            "type": "scattergeo"
           }
          ],
          "scattergl": [
           {
            "line": {
             "width": 3
            },
            "marker": {
             "size": 9
            },
            "type": "scattergl"
           }
          ],
          "scatterpolar": [
           {
            "line": {
             "width": 3
            },
            "marker": {
             "size": 9
            },
            "type": "scatterpolar"
           }
          ],
          "scatterpolargl": [
           {
            "line": {
             "width": 3
            },
            "marker": {
             "size": 9
            },
            "type": "scatterpolargl"
           }
          ],
          "scatterternary": [
           {
            "line": {
             "width": 3
            },
            "marker": {
             "size": 9
            },
            "type": "scatterternary"
           }
          ],
          "table": [
           {
            "cells": {
             "height": 30
            },
            "header": {
             "height": 36
            },
            "type": "table"
           }
          ]
         },
         "layout": {
          "font": {
           "size": 18
          },
          "xaxis": {
           "title": {
            "standoff": 15
           }
          },
          "yaxis": {
           "title": {
            "standoff": 15
           }
          }
         }
        },
        "updatemenus": [
         {
          "buttons": [
           {
            "args": [
             null,
             {
              "frame": {
               "duration": 500,
               "redraw": true
              },
              "fromcurrent": true,
              "mode": "immediate",
              "transition": {
               "duration": 500,
               "easing": "linear"
              }
             }
            ],
            "label": "&#9654;",
            "method": "animate"
           },
           {
            "args": [
             [
              null
             ],
             {
              "frame": {
               "duration": 0,
               "redraw": true
              },
              "fromcurrent": true,
              "mode": "immediate",
              "transition": {
               "duration": 0,
               "easing": "linear"
              }
             }
            ],
            "label": "&#9724;",
            "method": "animate"
           }
          ],
          "direction": "left",
          "pad": {
           "r": 10,
           "t": 70
          },
          "showactive": false,
          "type": "buttons",
          "x": 0.1,
          "xanchor": "right",
          "y": 0,
          "yanchor": "top"
         }
        ],
        "xaxis": {
         "anchor": "y",
         "domain": [
          0,
          1
         ],
         "title": {
          "text": "Unit sold"
         },
         "type": "log"
        },
        "yaxis": {
         "anchor": "x",
         "domain": [
          0,
          1
         ],
         "title": {
          "text": "Unit Name"
         }
        }
       }
      },
      "text/html": [
       "<div>                            <div id=\"8a9afd87-9a8b-4e6f-b275-997a5e3f6e60\" class=\"plotly-graph-div\" style=\"height:525px; width:100%;\"></div>            <script type=\"text/javascript\">                require([\"plotly\"], function(Plotly) {                    window.PLOTLYENV=window.PLOTLYENV || {};                                    if (document.getElementById(\"8a9afd87-9a8b-4e6f-b275-997a5e3f6e60\")) {                    Plotly.newPlot(                        \"8a9afd87-9a8b-4e6f-b275-997a5e3f6e60\",                        [{\"alignmentgroup\":\"True\",\"hovertemplate\":\"animation_frame=January<br>Unit sold=%{x}<br>Unit Name=%{y}<extra></extra>\",\"legendgroup\":\"\",\"marker\":{\"color\":\"#1F77B4\",\"pattern\":{\"shape\":\"\"}},\"name\":\"\",\"offsetgroup\":\"\",\"orientation\":\"h\",\"showlegend\":false,\"textposition\":\"auto\",\"x\":[2.55,9.95,2.911904761904762,0.85,0.65],\"xaxis\":\"x\",\"y\":[\" 4 PURPLE FLOCK DINNER CANDLES\",\" OVAL WALL MIRROR DIAMANTE \",\" SET 2 TEA TOWELS I LOVE LONDON \",\"10 COLOUR SPACEBOY PEN\",\"12 COLOURED PARTY BALLOONS\"],\"yaxis\":\"y\",\"type\":\"bar\"}],                        {\"template\":{\"data\":{\"pie\":[{\"automargin\":true,\"type\":\"pie\"}],\"scatter3d\":[{\"line\":{\"width\":3},\"marker\":{\"size\":9},\"type\":\"scatter3d\"}],\"scattergeo\":[{\"line\":{\"width\":3},\"marker\":{\"size\":9},\"type\":\"scattergeo\"}],\"scattergl\":[{\"line\":{\"width\":3},\"marker\":{\"size\":9},\"type\":\"scattergl\"}],\"scatterpolargl\":[{\"line\":{\"width\":3},\"marker\":{\"size\":9},\"type\":\"scatterpolargl\"}],\"scatterpolar\":[{\"line\":{\"width\":3},\"marker\":{\"size\":9},\"type\":\"scatterpolar\"}],\"scatter\":[{\"line\":{\"width\":3},\"marker\":{\"size\":9},\"type\":\"scatter\"}],\"scatterternary\":[{\"line\":{\"width\":3},\"marker\":{\"size\":9},\"type\":\"scatterternary\"}],\"table\":[{\"cells\":{\"height\":30},\"header\":{\"height\":36},\"type\":\"table\"}]},\"layout\":{\"font\":{\"size\":18},\"xaxis\":{\"title\":{\"standoff\":15}},\"yaxis\":{\"title\":{\"standoff\":15}}}},\"xaxis\":{\"anchor\":\"y\",\"domain\":[0.0,1.0],\"title\":{\"text\":\"Unit sold\"},\"type\":\"log\"},\"yaxis\":{\"anchor\":\"x\",\"domain\":[0.0,1.0],\"title\":{\"text\":\"Unit Name\"}},\"legend\":{\"tracegroupgap\":0},\"margin\":{\"t\":60},\"barmode\":\"relative\",\"updatemenus\":[{\"buttons\":[{\"args\":[null,{\"frame\":{\"duration\":500,\"redraw\":true},\"mode\":\"immediate\",\"fromcurrent\":true,\"transition\":{\"duration\":500,\"easing\":\"linear\"}}],\"label\":\"&#9654;\",\"method\":\"animate\"},{\"args\":[[null],{\"frame\":{\"duration\":0,\"redraw\":true},\"mode\":\"immediate\",\"fromcurrent\":true,\"transition\":{\"duration\":0,\"easing\":\"linear\"}}],\"label\":\"&#9724;\",\"method\":\"animate\"}],\"direction\":\"left\",\"pad\":{\"r\":10,\"t\":70},\"showactive\":false,\"type\":\"buttons\",\"x\":0.1,\"xanchor\":\"right\",\"y\":0,\"yanchor\":\"top\"}],\"sliders\":[{\"active\":0,\"currentvalue\":{\"prefix\":\"animation_frame=\"},\"len\":0.9,\"pad\":{\"b\":10,\"t\":60},\"steps\":[{\"args\":[[\"January\"],{\"frame\":{\"duration\":0,\"redraw\":true},\"mode\":\"immediate\",\"fromcurrent\":true,\"transition\":{\"duration\":0,\"easing\":\"linear\"}}],\"label\":\"January\",\"method\":\"animate\"},{\"args\":[[\"February\"],{\"frame\":{\"duration\":0,\"redraw\":true},\"mode\":\"immediate\",\"fromcurrent\":true,\"transition\":{\"duration\":0,\"easing\":\"linear\"}}],\"label\":\"February\",\"method\":\"animate\"},{\"args\":[[\"March\"],{\"frame\":{\"duration\":0,\"redraw\":true},\"mode\":\"immediate\",\"fromcurrent\":true,\"transition\":{\"duration\":0,\"easing\":\"linear\"}}],\"label\":\"March\",\"method\":\"animate\"},{\"args\":[[\"April\"],{\"frame\":{\"duration\":0,\"redraw\":true},\"mode\":\"immediate\",\"fromcurrent\":true,\"transition\":{\"duration\":0,\"easing\":\"linear\"}}],\"label\":\"April\",\"method\":\"animate\"},{\"args\":[[\"May\"],{\"frame\":{\"duration\":0,\"redraw\":true},\"mode\":\"immediate\",\"fromcurrent\":true,\"transition\":{\"duration\":0,\"easing\":\"linear\"}}],\"label\":\"May\",\"method\":\"animate\"},{\"args\":[[\"June\"],{\"frame\":{\"duration\":0,\"redraw\":true},\"mode\":\"immediate\",\"fromcurrent\":true,\"transition\":{\"duration\":0,\"easing\":\"linear\"}}],\"label\":\"June\",\"method\":\"animate\"},{\"args\":[[\"July\"],{\"frame\":{\"duration\":0,\"redraw\":true},\"mode\":\"immediate\",\"fromcurrent\":true,\"transition\":{\"duration\":0,\"easing\":\"linear\"}}],\"label\":\"July\",\"method\":\"animate\"},{\"args\":[[\"August\"],{\"frame\":{\"duration\":0,\"redraw\":true},\"mode\":\"immediate\",\"fromcurrent\":true,\"transition\":{\"duration\":0,\"easing\":\"linear\"}}],\"label\":\"August\",\"method\":\"animate\"},{\"args\":[[\"September\"],{\"frame\":{\"duration\":0,\"redraw\":true},\"mode\":\"immediate\",\"fromcurrent\":true,\"transition\":{\"duration\":0,\"easing\":\"linear\"}}],\"label\":\"September\",\"method\":\"animate\"},{\"args\":[[\"October\"],{\"frame\":{\"duration\":0,\"redraw\":true},\"mode\":\"immediate\",\"fromcurrent\":true,\"transition\":{\"duration\":0,\"easing\":\"linear\"}}],\"label\":\"October\",\"method\":\"animate\"},{\"args\":[[\"November\"],{\"frame\":{\"duration\":0,\"redraw\":true},\"mode\":\"immediate\",\"fromcurrent\":true,\"transition\":{\"duration\":0,\"easing\":\"linear\"}}],\"label\":\"November\",\"method\":\"animate\"},{\"args\":[[\"December\"],{\"frame\":{\"duration\":0,\"redraw\":true},\"mode\":\"immediate\",\"fromcurrent\":true,\"transition\":{\"duration\":0,\"easing\":\"linear\"}}],\"label\":\"December\",\"method\":\"animate\"}],\"x\":0.1,\"xanchor\":\"left\",\"y\":0,\"yanchor\":\"top\"}]},                        {\"responsive\": true}                    ).then(function(){\n",
       "                            Plotly.addFrames('8a9afd87-9a8b-4e6f-b275-997a5e3f6e60', [{\"data\":[{\"alignmentgroup\":\"True\",\"hovertemplate\":\"animation_frame=January<br>Unit sold=%{x}<br>Unit Name=%{y}<extra></extra>\",\"legendgroup\":\"\",\"marker\":{\"color\":\"#1F77B4\",\"pattern\":{\"shape\":\"\"}},\"name\":\"\",\"offsetgroup\":\"\",\"orientation\":\"h\",\"showlegend\":false,\"textposition\":\"auto\",\"x\":[2.55,9.95,2.911904761904762,0.85,0.65],\"xaxis\":\"x\",\"y\":[\" 4 PURPLE FLOCK DINNER CANDLES\",\" OVAL WALL MIRROR DIAMANTE \",\" SET 2 TEA TOWELS I LOVE LONDON \",\"10 COLOUR SPACEBOY PEN\",\"12 COLOURED PARTY BALLOONS\"],\"yaxis\":\"y\",\"type\":\"bar\"}],\"name\":\"January\"},{\"data\":[{\"alignmentgroup\":\"True\",\"hovertemplate\":\"animation_frame=February<br>Unit sold=%{x}<br>Unit Name=%{y}<extra></extra>\",\"legendgroup\":\"\",\"marker\":{\"color\":\"#1F77B4\",\"pattern\":{\"shape\":\"\"}},\"name\":\"\",\"offsetgroup\":\"\",\"orientation\":\"h\",\"showlegend\":false,\"textposition\":\"auto\",\"x\":[2.55,9.95,2.9333333333333336,0.85,0.65],\"xaxis\":\"x\",\"y\":[\" 4 PURPLE FLOCK DINNER CANDLES\",\" OVAL WALL MIRROR DIAMANTE \",\" SET 2 TEA TOWELS I LOVE LONDON \",\"10 COLOUR SPACEBOY PEN\",\"12 COLOURED PARTY BALLOONS\"],\"yaxis\":\"y\",\"type\":\"bar\"}],\"name\":\"February\"},{\"data\":[{\"alignmentgroup\":\"True\",\"hovertemplate\":\"animation_frame=March<br>Unit sold=%{x}<br>Unit Name=%{y}<extra></extra>\",\"legendgroup\":\"\",\"marker\":{\"color\":\"#1F77B4\",\"pattern\":{\"shape\":\"\"}},\"name\":\"\",\"offsetgroup\":\"\",\"orientation\":\"h\",\"showlegend\":false,\"textposition\":\"auto\",\"x\":[0.65,16.75,0.85,9.95,2.925588235294118],\"xaxis\":\"x\",\"y\":[\"12 COLOURED PARTY BALLOONS\",\" SPACEBOY BABY GIFT SET\",\"10 COLOUR SPACEBOY PEN\",\" OVAL WALL MIRROR DIAMANTE \",\" SET 2 TEA TOWELS I LOVE LONDON \"],\"yaxis\":\"y\",\"type\":\"bar\"}],\"name\":\"March\"},{\"data\":[{\"alignmentgroup\":\"True\",\"hovertemplate\":\"animation_frame=April<br>Unit sold=%{x}<br>Unit Name=%{y}<extra></extra>\",\"legendgroup\":\"\",\"marker\":{\"color\":\"#1F77B4\",\"pattern\":{\"shape\":\"\"}},\"name\":\"\",\"offsetgroup\":\"\",\"orientation\":\"h\",\"showlegend\":false,\"textposition\":\"auto\",\"x\":[2.55,9.95,3.2241935483870967,16.416666666666668,0.85],\"xaxis\":\"x\",\"y\":[\" 4 PURPLE FLOCK DINNER CANDLES\",\" OVAL WALL MIRROR DIAMANTE \",\" SET 2 TEA TOWELS I LOVE LONDON \",\" SPACEBOY BABY GIFT SET\",\"10 COLOUR SPACEBOY PEN\"],\"yaxis\":\"y\",\"type\":\"bar\"}],\"name\":\"April\"},{\"data\":[{\"alignmentgroup\":\"True\",\"hovertemplate\":\"animation_frame=May<br>Unit sold=%{x}<br>Unit Name=%{y}<extra></extra>\",\"legendgroup\":\"\",\"marker\":{\"color\":\"#1F77B4\",\"pattern\":{\"shape\":\"\"}},\"name\":\"\",\"offsetgroup\":\"\",\"orientation\":\"h\",\"showlegend\":false,\"textposition\":\"auto\",\"x\":[2.55,9.283333333333333,3.225862068965517,16.616666666666664,0.8499999999999999],\"xaxis\":\"x\",\"y\":[\" 4 PURPLE FLOCK DINNER CANDLES\",\" OVAL WALL MIRROR DIAMANTE \",\" SET 2 TEA TOWELS I LOVE LONDON \",\" SPACEBOY BABY GIFT SET\",\"10 COLOUR SPACEBOY PEN\"],\"yaxis\":\"y\",\"type\":\"bar\"}],\"name\":\"May\"},{\"data\":[{\"alignmentgroup\":\"True\",\"hovertemplate\":\"animation_frame=June<br>Unit sold=%{x}<br>Unit Name=%{y}<extra></extra>\",\"legendgroup\":\"\",\"marker\":{\"color\":\"#1F77B4\",\"pattern\":{\"shape\":\"\"}},\"name\":\"\",\"offsetgroup\":\"\",\"orientation\":\"h\",\"showlegend\":false,\"textposition\":\"auto\",\"x\":[16.95,3.0,8.95,2.55,9.95],\"xaxis\":\"x\",\"y\":[\" SPACEBOY BABY GIFT SET\",\" SET 2 TEA TOWELS I LOVE LONDON \",\" TOADSTOOL BEDSIDE LIGHT \",\" 4 PURPLE FLOCK DINNER CANDLES\",\" OVAL WALL MIRROR DIAMANTE \"],\"yaxis\":\"y\",\"type\":\"bar\"}],\"name\":\"June\"},{\"data\":[{\"alignmentgroup\":\"True\",\"hovertemplate\":\"animation_frame=July<br>Unit sold=%{x}<br>Unit Name=%{y}<extra></extra>\",\"legendgroup\":\"\",\"marker\":{\"color\":\"#1F77B4\",\"pattern\":{\"shape\":\"\"}},\"name\":\"\",\"offsetgroup\":\"\",\"orientation\":\"h\",\"showlegend\":false,\"textposition\":\"auto\",\"x\":[2.55,1.25,8.528571428571428,16.95,0.8391666666666667],\"xaxis\":\"x\",\"y\":[\" 4 PURPLE FLOCK DINNER CANDLES\",\" DOLLY GIRL BEAKER\",\" OVAL WALL MIRROR DIAMANTE \",\" SPACEBOY BABY GIFT SET\",\"10 COLOUR SPACEBOY PEN\"],\"yaxis\":\"y\",\"type\":\"bar\"}],\"name\":\"July\"},{\"data\":[{\"alignmentgroup\":\"True\",\"hovertemplate\":\"animation_frame=August<br>Unit sold=%{x}<br>Unit Name=%{y}<extra></extra>\",\"legendgroup\":\"\",\"marker\":{\"color\":\"#1F77B4\",\"pattern\":{\"shape\":\"\"}},\"name\":\"\",\"offsetgroup\":\"\",\"orientation\":\"h\",\"showlegend\":false,\"textposition\":\"auto\",\"x\":[2.55,1.25,1.25,9.95,1.25],\"xaxis\":\"x\",\"y\":[\" 4 PURPLE FLOCK DINNER CANDLES\",\" 50'S CHRISTMAS GIFT BAG LARGE\",\" DOLLY GIRL BEAKER\",\" OVAL WALL MIRROR DIAMANTE \",\" RED SPOT GIFT BAG LARGE\"],\"yaxis\":\"y\",\"type\":\"bar\"}],\"name\":\"August\"},{\"data\":[{\"alignmentgroup\":\"True\",\"hovertemplate\":\"animation_frame=September<br>Unit sold=%{x}<br>Unit Name=%{y}<extra></extra>\",\"legendgroup\":\"\",\"marker\":{\"color\":\"#1F77B4\",\"pattern\":{\"shape\":\"\"}},\"name\":\"\",\"offsetgroup\":\"\",\"orientation\":\"h\",\"showlegend\":false,\"textposition\":\"auto\",\"x\":[1.25,1.25,4.15,2.55,1.25],\"xaxis\":\"x\",\"y\":[\" RED SPOT GIFT BAG LARGE\",\" DOLLY GIRL BEAKER\",\" I LOVE LONDON MINI BACKPACK\",\" 4 PURPLE FLOCK DINNER CANDLES\",\" 50'S CHRISTMAS GIFT BAG LARGE\"],\"yaxis\":\"y\",\"type\":\"bar\"}],\"name\":\"September\"},{\"data\":[{\"alignmentgroup\":\"True\",\"hovertemplate\":\"animation_frame=October<br>Unit sold=%{x}<br>Unit Name=%{y}<extra></extra>\",\"legendgroup\":\"\",\"marker\":{\"color\":\"#1F77B4\",\"pattern\":{\"shape\":\"\"}},\"name\":\"\",\"offsetgroup\":\"\",\"orientation\":\"h\",\"showlegend\":false,\"textposition\":\"auto\",\"x\":[2.55,1.2451162790697674,1.25,4.15,14.775],\"xaxis\":\"x\",\"y\":[\" 4 PURPLE FLOCK DINNER CANDLES\",\" 50'S CHRISTMAS GIFT BAG LARGE\",\" DOLLY GIRL BEAKER\",\" I LOVE LONDON MINI BACKPACK\",\" NINE DRAWER OFFICE TIDY\"],\"yaxis\":\"y\",\"type\":\"bar\"}],\"name\":\"October\"},{\"data\":[{\"alignmentgroup\":\"True\",\"hovertemplate\":\"animation_frame=November<br>Unit sold=%{x}<br>Unit Name=%{y}<extra></extra>\",\"legendgroup\":\"\",\"marker\":{\"color\":\"#1F77B4\",\"pattern\":{\"shape\":\"\"}},\"name\":\"\",\"offsetgroup\":\"\",\"orientation\":\"h\",\"showlegend\":false,\"textposition\":\"auto\",\"x\":[14.541666666666666,4.15,1.25,2.55,1.25],\"xaxis\":\"x\",\"y\":[\" NINE DRAWER OFFICE TIDY\",\" I LOVE LONDON MINI BACKPACK\",\" 50'S CHRISTMAS GIFT BAG LARGE\",\" 4 PURPLE FLOCK DINNER CANDLES\",\" DOLLY GIRL BEAKER\"],\"yaxis\":\"y\",\"type\":\"bar\"}],\"name\":\"November\"},{\"data\":[{\"alignmentgroup\":\"True\",\"hovertemplate\":\"animation_frame=December<br>Unit sold=%{x}<br>Unit Name=%{y}<extra></extra>\",\"legendgroup\":\"\",\"marker\":{\"color\":\"#1F77B4\",\"pattern\":{\"shape\":\"\"}},\"name\":\"\",\"offsetgroup\":\"\",\"orientation\":\"h\",\"showlegend\":false,\"textposition\":\"auto\",\"x\":[4.15,1.292857142857143,1.25,1.25,14.949999999999998],\"xaxis\":\"x\",\"y\":[\" I LOVE LONDON MINI BACKPACK\",\" 4 PURPLE FLOCK DINNER CANDLES\",\" 50'S CHRISTMAS GIFT BAG LARGE\",\" DOLLY GIRL BEAKER\",\" NINE DRAWER OFFICE TIDY\"],\"yaxis\":\"y\",\"type\":\"bar\"}],\"name\":\"December\"}]);\n",
       "                        }).then(function(){\n",
       "                            \n",
       "var gd = document.getElementById('8a9afd87-9a8b-4e6f-b275-997a5e3f6e60');\n",
       "var x = new MutationObserver(function (mutations, observer) {{\n",
       "        var display = window.getComputedStyle(gd).display;\n",
       "        if (!display || display === 'none') {{\n",
       "            console.log([gd, 'removed!']);\n",
       "            Plotly.purge(gd);\n",
       "            observer.disconnect();\n",
       "        }}\n",
       "}});\n",
       "\n",
       "// Listen for the removal of the full notebook cells\n",
       "var notebookContainer = gd.closest('#notebook-container');\n",
       "if (notebookContainer) {{\n",
       "    x.observe(notebookContainer, {childList: true});\n",
       "}}\n",
       "\n",
       "// Listen for the clearing of the current output cell\n",
       "var outputEl = gd.closest('.output');\n",
       "if (outputEl) {{\n",
       "    x.observe(outputEl, {childList: true});\n",
       "}}\n",
       "\n",
       "                        })                };                });            </script>        </div>"
      ]
     },
     "metadata": {},
     "output_type": "display_data"
    }
   ],
   "source": [
    "fig"
   ]
  },
  {
   "cell_type": "code",
   "execution_count": null,
   "id": "bcf06ad3",
   "metadata": {},
   "outputs": [],
   "source": []
  }
 ],
 "metadata": {
  "kernelspec": {
   "display_name": "Python 3 (ipykernel)",
   "language": "python",
   "name": "python3"
  },
  "language_info": {
   "codemirror_mode": {
    "name": "ipython",
    "version": 3
   },
   "file_extension": ".py",
   "mimetype": "text/x-python",
   "name": "python",
   "nbconvert_exporter": "python",
   "pygments_lexer": "ipython3",
   "version": "3.9.7"
  }
 },
 "nbformat": 4,
 "nbformat_minor": 5
}
